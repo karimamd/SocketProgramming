{
  "nbformat": 4,
  "nbformat_minor": 0,
  "metadata": {
    "colab": {
      "name": "trial ZOZ.ipynb",
      "version": "0.3.2",
      "views": {},
      "default_view": {},
      "provenance": [],
      "collapsed_sections": []
    },
    "kernelspec": {
      "name": "python3",
      "display_name": "Python 3"
    }
  },
  "cells": [
    {
      "metadata": {
        "id": "OZiORoIf4YZM",
        "colab_type": "text"
      },
      "cell_type": "markdown",
      "source": [
        "TODO List:\n",
        "\n",
        "\n",
        "1) make the checksum ** done xD **\n",
        "\n",
        "2) change prob to decison(prob)\n",
        "\n",
        "3) implement Go back N\n",
        "\n",
        "4) report\n",
        "\n",
        "5) test with different parameters [still need to fix prob issue first]\n",
        "\n",
        "6) try sending different files: images,sound files ...etc   [DONE]\n",
        "\n",
        "7) fix selective repeat at prob <1 xD\n",
        "\n",
        "8) the hell i see in life :|\n",
        "\n",
        "\n",
        "#I DOUBT THAT TIMERS THREADS AREN'T \"\"REASSIGNED\"\"\" CASE(PROB<1)\n",
        "## >>>>>>>>>>>>>>>>>> in cell labeled \"HERE\" check line 62\n",
        "\n",
        "#yabni dah selective repeat mesh stop and wait"
      ]
    },
    {
      "metadata": {
        "id": "QmXRoGw40Rv0",
        "colab_type": "text"
      },
      "cell_type": "markdown",
      "source": [
        "Download the file to be sent"
      ]
    },
    {
      "metadata": {
        "id": "nZPxJagVthRo",
        "colab_type": "code",
        "colab": {
          "autoexec": {
            "startup": false,
            "wait_interval": 0
          },
          "base_uri": "https://localhost:8080/",
          "height": 486
        },
        "outputId": "1f338837-dde6-4a77-daad-d0874986a3fd",
        "executionInfo": {
          "status": "ok",
          "timestamp": 1526228066225,
          "user_tz": -120,
          "elapsed": 4241,
          "user": {
            "displayName": "Kareem Abdel Salam",
            "photoUrl": "//lh5.googleusercontent.com/-FFkZs03hTYw/AAAAAAAAAAI/AAAAAAAAJYE/suktak0dYDI/s50-c-k-no/photo.jpg",
            "userId": "111052780768832987513"
          }
        }
      },
      "cell_type": "code",
      "source": [
        "!wget https://www.dropbox.com/s/g8oq6mm2j1zhkv2/test_file.txt\n",
        "!wget https://freemusicarchive.org/file/music/Music_for_Video/Podington_Bear/Solo_Instruments/Podington_Bear_-_Starling.mp3"
      ],
      "execution_count": 7,
      "outputs": [
        {
          "output_type": "stream",
          "text": [
            "--2018-05-13 16:14:23--  https://www.dropbox.com/s/g8oq6mm2j1zhkv2/test_file.txt\n",
            "Resolving www.dropbox.com (www.dropbox.com)... 162.125.9.1, 2620:100:601f:1::a27d:901\n",
            "Connecting to www.dropbox.com (www.dropbox.com)|162.125.9.1|:443... connected.\n",
            "HTTP request sent, awaiting response... 302 Found\n",
            "Location: https://dl.dropboxusercontent.com/content_link/rPGnr9QbAWx6UhqHTpNK0rAgsvG1VORkEWq1U5kDSUTjPjszzjMbs1Ah09dr10df/file [following]\n",
            "--2018-05-13 16:14:23--  https://dl.dropboxusercontent.com/content_link/rPGnr9QbAWx6UhqHTpNK0rAgsvG1VORkEWq1U5kDSUTjPjszzjMbs1Ah09dr10df/file\n",
            "Resolving dl.dropboxusercontent.com (dl.dropboxusercontent.com)... 162.125.9.6, 2620:100:6031:6::a27d:5106\n",
            "Connecting to dl.dropboxusercontent.com (dl.dropboxusercontent.com)|162.125.9.6|:443... connected.\n",
            "HTTP request sent, awaiting response... 200 OK\n",
            "Length: 24576 (24K) [text/plain]\n",
            "Saving to: ‘test_file.txt’\n",
            "\n",
            "test_file.txt       100%[===================>]  24.00K  --.-KB/s    in 0.02s   \n",
            "\n",
            "2018-05-13 16:14:24 (1.33 MB/s) - ‘test_file.txt’ saved [24576/24576]\n",
            "\n",
            "--2018-05-13 16:14:25--  https://freemusicarchive.org/file/music/Music_for_Video/Podington_Bear/Solo_Instruments/Podington_Bear_-_Starling.mp3\n",
            "Resolving freemusicarchive.org (freemusicarchive.org)... 104.24.20.58, 104.24.21.58, 2400:cb00:2048:1::6818:143a, ...\n",
            "Connecting to freemusicarchive.org (freemusicarchive.org)|104.24.20.58|:443... connected.\n",
            "HTTP request sent, awaiting response... 200 OK\n",
            "Length: 4264199 (4.1M) [application/octet-stream]\n",
            "Saving to: ‘Podington_Bear_-_Starling.mp3.1’\n",
            "\n",
            "Podington_Bear_-_St 100%[===================>]   4.07M  12.5MB/s    in 0.3s    \n",
            "\n",
            "2018-05-13 16:14:25 (12.5 MB/s) - ‘Podington_Bear_-_Starling.mp3.1’ saved [4264199/4264199]\n",
            "\n"
          ],
          "name": "stdout"
        }
      ]
    },
    {
      "metadata": {
        "id": "VFJLaZo8uSGI",
        "colab_type": "code",
        "colab": {
          "autoexec": {
            "startup": false,
            "wait_interval": 0
          }
        }
      },
      "cell_type": "code",
      "source": [
        "import socket, pickle\n",
        "receiverIP=socket.gethostbyname(socket.gethostname())\n",
        "from socket import *\n",
        "senderPort = 12000\n",
        "receiverPort = 5200 "
      ],
      "execution_count": 0,
      "outputs": []
    },
    {
      "metadata": {
        "id": "PgeBf-LLHjRQ",
        "colab_type": "code",
        "colab": {
          "autoexec": {
            "startup": false,
            "wait_interval": 0
          },
          "base_uri": "https://localhost:8080/",
          "height": 34
        },
        "outputId": "3f5799d5-a43f-4e15-d7b6-0d3a2bda04a1",
        "executionInfo": {
          "status": "ok",
          "timestamp": 1526228047074,
          "user_tz": -120,
          "elapsed": 1782,
          "user": {
            "displayName": "Kareem Abdel Salam",
            "photoUrl": "//lh5.googleusercontent.com/-FFkZs03hTYw/AAAAAAAAAAI/AAAAAAAAJYE/suktak0dYDI/s50-c-k-no/photo.jpg",
            "userId": "111052780768832987513"
          }
        }
      },
      "cell_type": "code",
      "source": [
        "!ls"
      ],
      "execution_count": 6,
      "outputs": [
        {
          "output_type": "stream",
          "text": [
            "datalab  Podington_Bear_-_Starling.mp3\r\n"
          ],
          "name": "stdout"
        }
      ]
    },
    {
      "metadata": {
        "id": "PwgIgpoPuWpW",
        "colab_type": "code",
        "colab": {
          "autoexec": {
            "startup": false,
            "wait_interval": 0
          }
        }
      },
      "cell_type": "code",
      "source": [
        "class Packet:\n",
        "  def __init__(\n",
        "  self,\n",
        "  seq_num=None,\n",
        "  checksum=None,\n",
        "  data=None,\n",
        "  type_ =1,\n",
        "  act_num=None\n",
        "  ):\n",
        "    self.seq_num=seq_num\n",
        "    self.checksum=checksum\n",
        "    self.data=data\n",
        "    self.type_=type_\n",
        "    self.act_num=act_num\n",
        "    \n",
        "  def __lt__(self, other):\n",
        "        return self.seq_num < other.seq_num\n",
        "\n",
        "class ACK:\n",
        "  def __init__(\n",
        "  self,\n",
        "  seq_num=None,\n",
        "  checksum=None,\n",
        "  real=None\n",
        "  ):\n",
        "    self.seq_num=seq_num\n",
        "    self.checksum=checksum\n",
        "    self.real=real\n",
        "  "
      ],
      "execution_count": 0,
      "outputs": []
    },
    {
      "metadata": {
        "id": "ll9rr7qHuaZA",
        "colab_type": "code",
        "colab": {
          "autoexec": {
            "startup": false,
            "wait_interval": 0
          }
        }
      },
      "cell_type": "code",
      "source": [
        "import random\n",
        "'''\n",
        "A function to decide whether to pass the ack/packet or not depending on the probability passed\n",
        "and a randomly generated number\n",
        "'''\n",
        "def decision(probability):\n",
        "    return random.random() < probability"
      ],
      "execution_count": 0,
      "outputs": []
    },
    {
      "metadata": {
        "id": "FOIWChuh28oW",
        "colab_type": "text"
      },
      "cell_type": "markdown",
      "source": [
        "# Checksum : "
      ]
    },
    {
      "metadata": {
        "id": "fSDs2jc1273S",
        "colab_type": "code",
        "colab": {
          "autoexec": {
            "startup": false,
            "wait_interval": 0
          },
          "base_uri": "https://localhost:8080/",
          "height": 89
        },
        "outputId": "e0f17456-d73b-4ebf-8391-65e20b95304c",
        "executionInfo": {
          "status": "ok",
          "timestamp": 1526233323976,
          "user_tz": -120,
          "elapsed": 9063,
          "user": {
            "displayName": "Kareem Abdel Salam",
            "photoUrl": "//lh5.googleusercontent.com/-FFkZs03hTYw/AAAAAAAAAAI/AAAAAAAAJYE/suktak0dYDI/s50-c-k-no/photo.jpg",
            "userId": "111052780768832987513"
          }
        }
      },
      "cell_type": "code",
      "source": [
        "#!pip install hashlib\n",
        "import struct\n",
        "\n",
        "f = open(\"test_file.txt\", 'rb')\n",
        "data = f.read(1)\n",
        "print(data)\n",
        "import hashlib\n",
        "x=hashlib.sha224(data).hexdigest()\n",
        "y=hashlib.sha224(data).hexdigest()\n",
        "\n",
        "\n",
        "print(x == y)\n",
        "'''\n",
        "def ones_complement(x):\n",
        "  return x ^ ((1 << x.bit_length()) - 1)\n",
        "\n",
        "def ones_complement(x):\n",
        "  return x ^ ((1 << len(x) - 1)\n",
        "\n",
        "print(ones_complement(data))\n",
        "'''\n",
        "\n",
        "'''\n",
        "def checksum_func(data):\n",
        "    checksum = 0\n",
        "    data_len = len(data)\n",
        "    #if odd number\n",
        "    if (data_len%2) == 1:\n",
        "        data_len += 1\n",
        "        data += struct.pack('!B', 0)\n",
        "    \n",
        "    for i in range(0, len(data), 2):\n",
        "        w = (data[i] << 8) + (data[i + 1])\n",
        "        checksum += w\n",
        "\n",
        "    checksum = (checksum >> 16) + (checksum & 0xFFFF)\n",
        "    checksum = ~checksum&0xFFFF\n",
        "    return checksum\n",
        "\n",
        "def compute_checksum(source_port,destination_port,segment_length_bytes,data):\n",
        "  \n",
        "'''"
      ],
      "execution_count": 22,
      "outputs": [
        {
          "output_type": "stream",
          "text": [
            "b'k'\n",
            "True\n"
          ],
          "name": "stdout"
        },
        {
          "output_type": "execute_result",
          "data": {
            "text/plain": [
              "\"\\ndef checksum_func(data):\\n    checksum = 0\\n    data_len = len(data)\\n    #if odd number\\n    if (data_len%2) == 1:\\n        data_len += 1\\n        data += struct.pack('!B', 0)\\n    \\n    for i in range(0, len(data), 2):\\n        w = (data[i] << 8) + (data[i + 1])\\n        checksum += w\\n\\n    checksum = (checksum >> 16) + (checksum & 0xFFFF)\\n    checksum = ~checksum&0xFFFF\\n    return checksum\\n\\ndef compute_checksum(source_port,destination_port,segment_length_bytes,data):\\n  \\n\""
            ]
          },
          "metadata": {
            "tags": []
          },
          "execution_count": 22
        }
      ]
    },
    {
      "metadata": {
        "id": "oJmGxNQhugYq",
        "colab_type": "code",
        "colab": {
          "autoexec": {
            "startup": false,
            "wait_interval": 0
          }
        }
      },
      "cell_type": "code",
      "source": [
        "import csv\n",
        "import \n",
        "'''\n",
        "transform a file to a series of packets\n",
        "@param sw : boolean whether this is stop and wait or not\n",
        "@param seq_num_range : maximum value allowed for sequence number to have -1\n",
        "'''\n",
        "def file_to_pkt(file_name, sw, seq_num_range):\n",
        "    packets = []\n",
        "    f = open(file_name, 'rb')\n",
        "    data = f.read(1024)\n",
        "    seqNO = 0\n",
        "    while data:\n",
        "        if sw: #make sequence numbers 0 and 1 only in stop and wait\n",
        "            packets.append(Packet(seq_num=seqNO % 2, checksum=0, data=data,act_num=seqNO))\n",
        "\n",
        "        else:\n",
        "            packets.append(Packet(seq_num=seqNO % seq_num_range, checksum=0, data=data,act_num=seqNO))\n",
        "        data = f.read(1024)\n",
        "        \n",
        "        seqNO += 1\n",
        "    #type 0 is the terminating packet of the file   \n",
        "    packets[len(packets) - 1].type_ = 0\n",
        "    return packets\n",
        "  \n",
        "\n",
        "def pkt_to_file(file_name, packets):\n",
        "    f = open(file_name, 'wb')\n",
        "    for i in range(len(packets)):\n",
        "        f.write(packets[i].data)\n",
        "    f.close()\n",
        "    \n",
        "def get_stats(file_name,stats_dict):\n",
        "  with open(file_name, \"w\") as f:\n",
        "    writer = csv.writer(f, delimiter=\"\\t\", lineterminator=\"\\r\\n\")\n",
        "    writer.writerows(stats_dict.items())\n",
        "    "
      ],
      "execution_count": 0,
      "outputs": []
    },
    {
      "metadata": {
        "id": "HWGYOyfgW-IW",
        "colab_type": "text"
      },
      "cell_type": "markdown",
      "source": [
        "#HERE"
      ]
    },
    {
      "metadata": {
        "id": "9nkkUflKqatg",
        "colab_type": "code",
        "colab": {
          "autoexec": {
            "startup": false,
            "wait_interval": 0
          }
        }
      },
      "cell_type": "code",
      "source": [
        "from concurrent.futures import ThreadPoolExecutor, wait, as_completed\n",
        "\n",
        "from time import sleep\n",
        "from random import randint\n",
        "from threading import Thread, Lock\n",
        "\n",
        "lock=Lock()\n",
        "'''\n",
        "ThreadPoolExecutor gives pool of threads specified to the timers\n",
        "of packets in the window so max no of threads maybe set to window size\n",
        "\n",
        "concurrent.futures is used to determine whether the function of the thread has completed (returned or not)\n",
        "function of thread >>> time_alarm(...)\n",
        "\n",
        "once it is completed (the function of thread) call-back function re-submit the timer if still no ack was received\n",
        "call-back function >>> resend(...)\n",
        ">>>> timers[number]=pool.submit(time_alarm, packet, prob, time_out,senderSocket,pool) assigns\n",
        "the function time_alarm to one thread of the pool with the parameters given\n",
        "\n",
        " when the callback function is called >>> timers[item.seq_num].add_done_callback(resend)\n",
        "once time_alarm finishs its job it passes the returned result to object called \"Future\" variable: [[fn]] via resend function\n",
        "resend function reassigns time_alarm to the pool of threads as no ack received and packet is \"RESENT\"\n",
        "\n",
        "I THINK THERE IS DEADLOCK HAPPENS IN MIDDLE OF SENDING PROCESS\n",
        "\n",
        "if u need i can summarize the steps if u want so>>>\n",
        "give me 20 minutes to scan the code then I will ask you questions\n",
        "I will understand better this way\n",
        "\n",
        "'''\n",
        "def time_alarm(Packet, prob, time_out, senderSocket,pool,timers,dummy):\n",
        "    time.sleep(time_out)\n",
        "    print(\"WOW \",Packet.act_num,dummy)\n",
        "    return Packet, Packet.seq_num, senderSocket, prob, time_out, pool,timers,dummy\n",
        "\n",
        "# def resend(senderSocket, timers, prob, pool):\n",
        "#     for x in as_completed(timers.values()):\n",
        "#         timers[x.result()[1]]=pool.submit(time_alarm, x.result()[0], prob, time_out)\n",
        "#         print(\"GOT--> \",x.result()[0].act_num)\n",
        "#         if prob:\n",
        "\n",
        "#             senderSocket.sendto(pickle.dumps(x.result()[0]),(receiverIP, receiverPort))\n",
        "#             print(\"resent\",x.result()[1],\"actual\",x.result()[1])\n",
        "#     print(\"D.O.N.E\")\n",
        "'''we pass a function to this function? automatically, once time_alarm returns result it is passed \n",
        "to callback function resend'''    \n",
        "def resend(fn):\n",
        "    \n",
        "    packet,number,senderSocket, prob, time_out, pool, timers,dummy=fn.result() # fn.result is returned result of time_alarm\n",
        "    #TODO change prob to decision prob\n",
        "    if decision(prob):\n",
        "      with lock:\n",
        "        try:\n",
        "          senderSocket.sendto(pickle.dumps(packet),(receiverIP, receiverPort))\n",
        "          print(\"resent\",number,\"actual\",packet.act_num)\n",
        "        except:\n",
        "          pass\n",
        "          \n",
        "          \n",
        "    else:\n",
        "    \n",
        "    timers[number]=pool.submit(time_alarm, packet, prob, time_out,senderSocket,pool,dummy+1) # >>>>>>>>>>>>>>>> TIMERS AREN'T REASSIGNED?????????????????? \n",
        "\n",
        "            \n",
        "            "
      ],
      "execution_count": 0,
      "outputs": []
    },
    {
      "metadata": {
        "id": "GGstcv-O-mW-",
        "colab_type": "code",
        "colab": {
          "autoexec": {
            "startup": false,
            "wait_interval": 0
          }
        }
      },
      "cell_type": "code",
      "source": [
        "'''\n",
        "i'll use those only in case i already received the packet and it is resent to me again\n",
        "IF THIS PACKET WAS IN THE RANGE OF MY WINDOW OR THAT IN \"\"\"LAST\"\"\" WINDOW SEND ACK AND DON'T ACCEPT IT TWICE\n",
        "IF PACKET LIES OUTSIDE THIS RANGE IGNORE AT ALL\n",
        "I understand now xD \n",
        "lets go to the meat of the code xD\n",
        "'''      \n",
        "def is_in_range(num,start,step_size,range_):\n",
        "  lim=[ i%range_ for i in range(start,start+step_size)]\n",
        "  if num in lim:\n",
        "    return True\n",
        "  else:\n",
        "    return False\n",
        "  \n",
        "def is_in_lrange(num,start,step_size,range_):\n",
        "  lim=[ i%range_ for i in range(start-1,start-step_size)]\n",
        "  if num in lim:\n",
        "    return True\n",
        "  else:\n",
        "    return False\n",
        "    \n",
        "\n",
        "          "
      ],
      "execution_count": 0,
      "outputs": []
    },
    {
      "metadata": {
        "id": "UHOtszZoujiM",
        "colab_type": "code",
        "colab": {
          "autoexec": {
            "startup": false,
            "wait_interval": 0
          }
        }
      },
      "cell_type": "code",
      "source": [
        "#@title Parameters Tuning{ form-width: \"27%\" }\n",
        "sent_file_name = 'Podington_Bear_-_Starling.mp3'  # @param {type:\"string\"}\n",
        "recv_file_name = 'delta.mp3'  # @param {type:\"string\"}\n",
        "prob = 1  # @param {type:\"slider\", min:0, max:1, step:0.01}\n",
        "window_size = 7  # @param {type:\"integer\"}\n",
        "seq_num_range = 14  # @param {type:\"integer\"}\n",
        "time_out = 0.01 # @param {type:\"number\"}\n",
        "\n",
        "import heapq\n",
        "import os\n",
        "import time\n",
        "#from google.colab import files\n",
        "import threading\n",
        "from threading import Thread\n",
        "\n",
        "#may move this before the function call \n",
        "start_time = time.time()"
      ],
      "execution_count": 0,
      "outputs": []
    },
    {
      "metadata": {
        "id": "RRLwDmwXBdIP",
        "colab_type": "code",
        "colab": {
          "autoexec": {
            "startup": false,
            "wait_interval": 0
          }
        }
      },
      "cell_type": "code",
      "source": [
        "'''I THINK WE FIXED THE PROBLEMS :D'''\n",
        "''' CAPTAIN KAREEM RERUN THE FILE WITH DIFFERENT PARAMETERS'''\n",
        "'''ok'''\n",
        "def recv_child():\n",
        "    stats_ = {}\n",
        "    #UDP socket\n",
        "    receiverSocket = socket(AF_INET, SOCK_DGRAM)\n",
        "    #reuse address when done with it\n",
        "    receiverSocket.setsockopt(SOL_SOCKET, SO_REUSEADDR, 1)\n",
        "    receiverSocket.bind(('', receiverPort))\n",
        "\n",
        "    print ('--The receiver is ready to receive--\\n')\n",
        "\n",
        "    packets = []\n",
        "    window = []\n",
        "    received = []\n",
        "    recv_base = 0\n",
        "    flag_end = False\n",
        "#   receiving while loop, message is a packet of the file sent\n",
        "    while True:\n",
        "        time.sleep(0.05)\n",
        "        (message, senderAddress) = receiverSocket.recvfrom(8192)\n",
        "        #print(\"GOT SOMETHING\")\n",
        "        message = pickle.loads(message)\n",
        "        #time instance of receiving the message\n",
        "        #t6 = time.time()\n",
        "        #last packet\n",
        "        if message.type_ == 0:\n",
        "            flag_end = True\n",
        "        #if packet received is within current window\n",
        "        if is_in_lrange(message.seq_num, recv_base, window_size,\n",
        "                        seq_num_range) or is_in_range(message.seq_num,\n",
        "                recv_base, window_size, seq_num_range):\n",
        "            #if packet is not dropped\n",
        "            if decision(prob):\n",
        "                #time.sleep(0.004)\n",
        "                receiverSocket.sendto(pickle.dumps(ACK(message.seq_num,\n",
        "                        0, message.act_num)), senderAddress)\n",
        "                t6 = time.time()\n",
        "                stats_['{0:.6f}'.format(t6 - start_time)] = \\\n",
        "                    'receiver sent ack for packet ' \\\n",
        "                    + str(message.seq_num) + ' actual: ' \\\n",
        "                    + str(message.act_num)\n",
        "                print (stats_['{0:.6f}'.format(t6 - start_time)])\n",
        "            #else if packet is dropped\n",
        "            else:\n",
        "                t6 = time.time()\n",
        "                stats_['{0:.6f}'.format(t6 - start_time)] = \\\n",
        "                    'receiver dropped ack for packet ' \\\n",
        "                    + str(message.seq_num) + ' actual: ' \\\n",
        "                    + str(message.act_num)\n",
        "\n",
        "        if message.seq_num in received:\n",
        "            continue\n",
        "\n",
        "#         if abs(message.seq_num % seq_num_range - window_size) \\\n",
        "#             in received:\n",
        "#             received.remove(abs(message.seq_num % seq_num_range\n",
        "#                             - window_size))\n",
        "\n",
        "        if message.seq_num<window_size:\n",
        "          if (message.seq_num+seq_num_range- window_size) in received:\n",
        "            received.remove(message.seq_num+seq_num_range- window_size)\n",
        "        else:\n",
        "          if (message.seq_num-window_size) in received:\n",
        "            received.remove(message.seq_num-window_size)\n",
        "\n",
        "        received.append(message.seq_num)\n",
        "\n",
        "        if recv_base == message.seq_num:\n",
        "            window.append(message)\n",
        "            for (i, j) in zip(sorted(window)[0::1], sorted(window)[1::1]):\n",
        "                if j.seq_num == (i.seq_num + 1) % seq_num_range \\\n",
        "                    or j.seq_num == i.seq_num + 1:\n",
        "                    recv_base = j.seq_num\n",
        "                    packets.append(i)\n",
        "                    window.remove(i)\n",
        "                   # print (recv_base)\n",
        "                else:\n",
        "                    recv_base = (i.seq_num + 1) % seq_num_range\n",
        "                    packets.append(i)\n",
        "                    window.remove(i)\n",
        "                    #print (recv_base)\n",
        "                    break\n",
        "\n",
        "            if len(window) == 1 and recv_base == window[0].seq_num:\n",
        "                recv_base = (window[0].seq_num + 1) % seq_num_range\n",
        "                packets.append(window[0])\n",
        "                window.remove(window[0])\n",
        "                #print (recv_base)\n",
        "\n",
        "            \n",
        "        else:\n",
        "            window.append(message)\n",
        "            \n",
        "        if packets:\n",
        "          if flag_end:\n",
        "            time.sleep(0.1)\n",
        "\n",
        "            print ('--Whole file received successfully. File is ready to download--\\n')\n",
        "\n",
        "            get_stats('receiver_stats.txt', stats_)\n",
        "\n",
        "            pkt_to_file(recv_file_name, packets)\n",
        "            receiverSocket.close()\n",
        "            break\n",
        "\n",
        "\n"
      ],
      "execution_count": 0,
      "outputs": []
    },
    {
      "metadata": {
        "id": "sZEWz5dWBTb6",
        "colab_type": "code",
        "colab": {
          "autoexec": {
            "startup": false,
            "wait_interval": 0
          }
        }
      },
      "cell_type": "code",
      "source": [
        "#Sender\n",
        "def send_parent():\n",
        "    #sender process\n",
        "    newpid = os.fork()\n",
        "    #if in child\n",
        "    if newpid == 0:\n",
        "        recv_child()\n",
        "    else:#parent\n",
        "        stats_ = {}\n",
        "        time.sleep(1)\n",
        "        packets = file_to_pkt(file_name=sent_file_name, sw=False,\n",
        "                              seq_num_range=seq_num_range)\n",
        "\n",
        "        senderSocket = socket(AF_INET, SOCK_DGRAM)\n",
        "        senderSocket.setsockopt(SOL_SOCKET, SO_REUSEADDR, 1)\n",
        "        senderSocket.bind(('', senderPort))\n",
        "        \n",
        "\n",
        "        # ## initial setting of window\n",
        "        print(\"length of packets:\",len(packets))\n",
        "        base = 0\n",
        "        index = 0\n",
        "        step = 0\n",
        "        window = []\n",
        "        timers = {}\n",
        "        pool = ThreadPoolExecutor(2*window_size)\n",
        "        not_acked = []\n",
        "        acked_num = 0\n",
        "#         t=Thread(target=resend,args=(senderSocket, timers, prob, pool))\n",
        "#         t.start()\n",
        "#append and variable change orignal if ERROR\n",
        "        if index + window_size < len(packets):\n",
        "            window = packets[index:(index + window_size)]\n",
        "        else:\n",
        "            window = packets[index:len(packets)]\n",
        "\n",
        "        for i in range(len(window)):\n",
        "            #for each packet in window create an event object and  a timer/thread\n",
        "            #key of these dics to get these object is packet sequence number\n",
        "            #senderSocket.sendto(pickle.dumps(window[i]),(receiverIP, receiverPort))\n",
        "            timers[window[i].seq_num] = pool.submit(time_alarm,window[i],prob,time_out,senderSocket,pool,timers,0)\n",
        "            timers[window[i].seq_num].add_done_callback(resend)\n",
        "            not_acked.append(window[i].seq_num)\n",
        "\n",
        "        while True:\n",
        "\n",
        "            reply = None\n",
        "            (reply, receiverAddress) = senderSocket.recvfrom(2048)\n",
        "            #time.sleep(0.001)\n",
        "            reply = pickle.loads(reply)\n",
        "            print(\"ack seq_num:\",reply.seq_num,reply.real,\"REC. ACK\")\n",
        "            if isinstance(reply,ACK):\n",
        "                #time.sleep(0.0001)\n",
        "                \n",
        "\n",
        "                if (reply.seq_num in timers.keys()):\n",
        "                    del timers[reply.seq_num]\n",
        "                    try:\n",
        "                      not_acked.remove(reply.seq_num)\n",
        "                    except ValueError:\n",
        "                      print(not_acked,reply.seq_num)\n",
        "\n",
        "                    acked_num += 1\n",
        "                    print(\"LENGTH OF PACKETS:\",acked_num)\n",
        "\n",
        "                    if acked_num == len(packets):\n",
        "                        senderSocket.close()\n",
        "                        break\n",
        "\n",
        "                    if base == reply.seq_num:\n",
        "                        if len(not_acked)==0:\n",
        "                            step=window_size\n",
        "                        elif abs(base - heapq.nsmallest(1, not_acked)[0]) > window_size - 1:\n",
        "                            step = abs(seq_num_range % base - heapq.nsmallest(1, not_acked)[0])\n",
        "                        elif abs(base - heapq.nsmallest(1, not_acked)[0]) <= window_size - 1:\n",
        "                            step = abs(base - heapq.nsmallest(1, not_acked)[0])\n",
        "\n",
        "                        index+=step\n",
        "\n",
        "                        if index + window_size < len(packets):\n",
        "                            \n",
        "                            window = packets[index:index + window_size]\n",
        " \n",
        "                        else:\n",
        "\n",
        "                            window = packets[index:len(packets)]\n",
        "\n",
        "                        \n",
        "\n",
        "                        base= window[0].seq_num\n",
        "                        print(window[0].act_num,\" ---- \",window[len(window)-1].act_num)\n",
        "\n",
        "                        for item in window[-step:]:\n",
        "                            #senderSocket.sendto(pickle.dumps(item),(receiverIP, receiverPort))\n",
        "                            timers[item.seq_num]= pool.submit(time_alarm,item,prob,time_out,senderSocket,pool,timers,0)\n",
        "                            timers[item.seq_num].add_done_callback(resend)\n",
        "                            not_acked.append(item.seq_num)\n",
        "\n",
        "\n",
        "\n",
        "        \n",
        "\n",
        "\n",
        "\n",
        "\n"
      ],
      "execution_count": 0,
      "outputs": []
    },
    {
      "metadata": {
        "id": "ef-FqevXCCuZ",
        "colab_type": "code",
        "colab": {
          "autoexec": {
            "startup": false,
            "wait_interval": 0
          }
        }
      },
      "cell_type": "code",
      "source": [
        "#function call\n",
        "send_parent()"
      ],
      "execution_count": 0,
      "outputs": []
    },
    {
      "metadata": {
        "id": "XESmrMZ8Zpj4",
        "colab_type": "code",
        "colab": {
          "autoexec": {
            "startup": false,
            "wait_interval": 0
          }
        }
      },
      "cell_type": "code",
      "source": [
        "\n",
        "!ls"
      ],
      "execution_count": 0,
      "outputs": []
    },
    {
      "metadata": {
        "id": "U38xeJ6NZgnd",
        "colab_type": "text"
      },
      "cell_type": "markdown",
      "source": [
        "## TO DOWNLOAD THE RECEIVED FILE"
      ]
    },
    {
      "metadata": {
        "id": "kD1HqTtzcrdJ",
        "colab_type": "code",
        "colab": {
          "autoexec": {
            "startup": false,
            "wait_interval": 0
          }
        }
      },
      "cell_type": "code",
      "source": [
        "from google.colab import files\n",
        "files.download(recv_file_name)"
      ],
      "execution_count": 0,
      "outputs": []
    }
  ]
}