{
 "cells": [
  {
   "cell_type": "markdown",
   "metadata": {
    "colab_type": "text",
    "id": "KSu5ZotQ9FbN"
   },
   "source": [
    "#SETUP"
   ]
  },
  {
   "cell_type": "markdown",
   "metadata": {
    "colab_type": "text",
    "id": "ULZa1KsCFvW1"
   },
   "source": [
    "Downloading files to be sent:"
   ]
  },
  {
   "cell_type": "code",
   "execution_count": 1,
   "metadata": {
    "colab": {
     "autoexec": {
      "startup": false,
      "wait_interval": 0
     },
     "base_uri": "https://localhost:8080/",
     "height": 69
    },
    "colab_type": "code",
    "executionInfo": {
     "elapsed": 7403,
     "status": "ok",
     "timestamp": 1526244624830,
     "user": {
      "displayName": "Kareem Abdel Salam",
      "photoUrl": "//lh5.googleusercontent.com/-FFkZs03hTYw/AAAAAAAAAAI/AAAAAAAAJYE/suktak0dYDI/s50-c-k-no/photo.jpg",
      "userId": "111052780768832987513"
     },
     "user_tz": -120
    },
    "id": "8rEK0qbERJiJ",
    "outputId": "78f22b8c-b420-4895-b0df-721970ebe779"
   },
   "outputs": [
    {
     "name": "stdout",
     "output_type": "stream",
     "text": [
      "Podington_Bear_-_Starling.mp3  sender_stats.txt   stop&wait.mp3\r\n",
      "receiver_stats.txt\t       Socket_Prog.ipynb  test_file.txt\r\n"
     ]
    }
   ],
   "source": [
    "!ls"
   ]
  },
  {
   "cell_type": "code",
   "execution_count": 2,
   "metadata": {
    "colab": {
     "autoexec": {
      "startup": false,
      "wait_interval": 0
     },
     "base_uri": "https://localhost:8080/",
     "height": 34
    },
    "colab_type": "code",
    "executionInfo": {
     "elapsed": 2003,
     "status": "ok",
     "timestamp": 1526241642855,
     "user": {
      "displayName": "Kareem Abdel Salam",
      "photoUrl": "//lh5.googleusercontent.com/-FFkZs03hTYw/AAAAAAAAAAI/AAAAAAAAJYE/suktak0dYDI/s50-c-k-no/photo.jpg",
      "userId": "111052780768832987513"
     },
     "user_tz": -120
    },
    "id": "pRLP2LCbrHm7",
    "outputId": "b50122ad-941e-4b2f-d75d-e9579ee07928"
   },
   "outputs": [
    {
     "name": "stdout",
     "output_type": "stream",
     "text": [
      "Podington_Bear_-_Starling.mp3  sender_stats.txt   stop&wait.mp3\r\n",
      "receiver_stats.txt\t       Socket_Prog.ipynb  test_file.txt\r\n"
     ]
    }
   ],
   "source": [
    "!ls"
   ]
  },
  {
   "cell_type": "code",
   "execution_count": 3,
   "metadata": {
    "colab": {
     "autoexec": {
      "startup": false,
      "wait_interval": 0
     },
     "base_uri": "https://localhost:8080/",
     "height": 764
    },
    "colab_type": "code",
    "collapsed": true,
    "executionInfo": {
     "elapsed": 8858,
     "status": "ok",
     "timestamp": 1526241623827,
     "user": {
      "displayName": "Kareem Abdel Salam",
      "photoUrl": "//lh5.googleusercontent.com/-FFkZs03hTYw/AAAAAAAAAAI/AAAAAAAAJYE/suktak0dYDI/s50-c-k-no/photo.jpg",
      "userId": "111052780768832987513"
     },
     "user_tz": -120
    },
    "id": "j3rE1hCOHS93",
    "outputId": "8d8d696c-e4d0-4329-e66f-40fe7a688ed9"
   },
   "outputs": [],
   "source": [
    "#!wget https://www.dropbox.com/s/4fm193mtun5nzl0/big_text_file.txt  # big_text_file.txt file of 4.00 MB that will be sent\n",
    "#!wget https://www.dropbox.com/s/g8oq6mm2j1zhkv2/test_file.txt      # small test text file\n",
    "#!wget https://freemusicarchive.org/file/music/Music_for_Video/Podington_Bear/Solo_Instruments/Podington_Bear_-_Starling.mp3  # +4 MB mp3 file"
   ]
  },
  {
   "cell_type": "markdown",
   "metadata": {
    "colab_type": "text",
    "id": "Gain1ptdF5ud"
   },
   "source": [
    "sender and receiver:"
   ]
  },
  {
   "cell_type": "code",
   "execution_count": 4,
   "metadata": {
    "colab": {
     "autoexec": {
      "startup": false,
      "wait_interval": 0
     }
    },
    "colab_type": "code",
    "collapsed": true,
    "id": "4xUpYxSXMs8g"
   },
   "outputs": [],
   "source": [
    "import socket, pickle\n",
    "receiverIP=socket.gethostbyname(socket.gethostname())\n",
    "from socket import *\n",
    "senderPort = 12000\n",
    "receiverPort = 5200 "
   ]
  },
  {
   "cell_type": "markdown",
   "metadata": {
    "colab_type": "text",
    "id": "92jGUpDdF9l7"
   },
   "source": [
    "packets and Acks classes:"
   ]
  },
  {
   "cell_type": "code",
   "execution_count": 5,
   "metadata": {
    "colab": {
     "autoexec": {
      "startup": false,
      "wait_interval": 0
     }
    },
    "colab_type": "code",
    "collapsed": true,
    "id": "7pyPwRRiS-5H"
   },
   "outputs": [],
   "source": [
    "class Packet:\n",
    "  def __init__(\n",
    "  self,\n",
    "  seq_num=None,\n",
    "  checksum=None,\n",
    "  data=None,\n",
    "  type_ =1\n",
    "  ):\n",
    "    self.seq_num=seq_num\n",
    "    self.checksum=checksum\n",
    "    self.data=data\n",
    "    self.type_=type_\n",
    "\n",
    "class ACK:\n",
    "  def __init__(\n",
    "  self,\n",
    "  seq_num=None,\n",
    "  checksum=None,\n",
    "  real=None,\n",
    "  data=None\n",
    "  ):\n",
    "    self.seq_num=seq_num\n",
    "    self.checksum=checksum\n",
    "    self.real=real\n",
    "    self.data=data\n",
    "  "
   ]
  },
  {
   "cell_type": "markdown",
   "metadata": {
    "colab_type": "text",
    "id": "HU7kgeidG3xu"
   },
   "source": [
    "checksum calculation trial:"
   ]
  },
  {
   "cell_type": "code",
   "execution_count": 6,
   "metadata": {
    "colab": {
     "autoexec": {
      "startup": false,
      "wait_interval": 0
     },
     "base_uri": "https://localhost:8080/",
     "height": 52
    },
    "colab_type": "code",
    "executionInfo": {
     "elapsed": 684,
     "status": "ok",
     "timestamp": 1526244643962,
     "user": {
      "displayName": "Kareem Abdel Salam",
      "photoUrl": "//lh5.googleusercontent.com/-FFkZs03hTYw/AAAAAAAAAAI/AAAAAAAAJYE/suktak0dYDI/s50-c-k-no/photo.jpg",
      "userId": "111052780768832987513"
     },
     "user_tz": -120
    },
    "id": "m3AJHbmUG6ck",
    "outputId": "90215891-48cb-4efd-f699-dd70bdcfecda"
   },
   "outputs": [
    {
     "name": "stdout",
     "output_type": "stream",
     "text": [
      "b'k'\n",
      "True\n"
     ]
    }
   ],
   "source": [
    "#!pip install hashlib\n",
    "import struct\n",
    "import hashlib\n",
    "f = open(\"test_file.txt\", 'rb')\n",
    "#read one byte in bunary format\n",
    "data = f.read(1)\n",
    "print(data)\n",
    "\n",
    "x=hashlib.sha224(data).hexdigest()\n",
    "y=hashlib.sha224(data).hexdigest()\n",
    "\n",
    "\n",
    "print(x == y)"
   ]
  },
  {
   "cell_type": "markdown",
   "metadata": {
    "colab_type": "text",
    "id": "Ud6T96MNGIQ1"
   },
   "source": [
    "randomly dropping packets function:"
   ]
  },
  {
   "cell_type": "code",
   "execution_count": 7,
   "metadata": {
    "colab": {
     "autoexec": {
      "startup": false,
      "wait_interval": 0
     }
    },
    "colab_type": "code",
    "collapsed": true,
    "id": "vxgfA5DLKVVs"
   },
   "outputs": [],
   "source": [
    "import random\n",
    "\n",
    "def decision(probability):\n",
    "    return random.random() < probability"
   ]
  },
  {
   "cell_type": "markdown",
   "metadata": {
    "colab_type": "text",
    "id": "9j_-LchZGTM1"
   },
   "source": [
    "Dividing files to packets and vice versa:\n",
    "\n",
    "and writing logs:"
   ]
  },
  {
   "cell_type": "code",
   "execution_count": 8,
   "metadata": {
    "colab": {
     "autoexec": {
      "startup": false,
      "wait_interval": 0
     }
    },
    "colab_type": "code",
    "collapsed": true,
    "id": "4L3Rf5lEU1Qk"
   },
   "outputs": [],
   "source": [
    "import csv\n",
    "\n",
    "def file_to_pkt(file_name, sw, seq_num_range):\n",
    "    packets = []\n",
    "    f = open(file_name, 'rb')\n",
    "    data = f.read(1024)\n",
    "    seqNO = 0\n",
    "    while data:\n",
    "        if sw:\n",
    "            packets.append(Packet(seqNO % 2, hashlib.sha224(data).hexdigest(), data))\n",
    "\n",
    "        else: #added checksum instead of 0\n",
    "            packets.append(Packet(seqNO % seq_num_range, hashlib.sha224(data).hexdigest(), data))\n",
    "        data = f.read(1024)\n",
    "        \n",
    "        seqNO += 1\n",
    "        \n",
    "    packets[len(packets) - 1].type_ = 0\n",
    "    return packets\n",
    "  \n",
    "\n",
    "def pkt_to_file(file_name, packets):\n",
    "    f = open(file_name, 'wb')\n",
    "    for i in range(len(packets)):\n",
    "        f.write(packets[i].data)\n",
    "    f.close()\n",
    "    \n",
    "def get_stats(file_name,stats_dict):\n",
    "  with open(file_name, \"w\") as f:\n",
    "    writer = csv.writer(f, delimiter=\"\\t\", lineterminator=\"\\r\\n\")\n",
    "    writer.writerows(stats_dict.items())\n",
    "    \n"
   ]
  },
  {
   "cell_type": "markdown",
   "metadata": {
    "colab_type": "text",
    "id": "HzYeqZX-9FsC"
   },
   "source": [
    "#STOP AND WAIT"
   ]
  },
  {
   "cell_type": "code",
   "execution_count": 9,
   "metadata": {
    "cellView": "code",
    "colab": {
     "autoexec": {
      "startup": false,
      "wait_interval": 0
     },
     "base_uri": "https://localhost:8080/",
     "height": 479
    },
    "colab_type": "code",
    "id": "LCAPlR6ezZNX",
    "outputId": "edabad00-1246-43ab-834e-e12d66714a2f"
   },
   "outputs": [
    {
     "name": "stdout",
     "output_type": "stream",
     "text": [
      "--The receiver is ready to receive--\n",
      "\n",
      "--Whole file sent successfully--\n",
      "\n",
      "--Whole file received successfully. File is ready to download--\n",
      "\n",
      "--Whole file received successfully. File is ready to download--\n",
      "\n"
     ]
    }
   ],
   "source": [
    "#@title Parameters Tuning { form-width: \"30%\"}\n",
    "sent_file_name = \"Podington_Bear_-_Starling.mp3\" #@param {type:\"string\"}\n",
    "recv_file_name = \"stop&wait.mp3\" #@param {type:\"string\"}\n",
    "prob = 0.9 #@param {type:\"slider\", min:0, max:1, step:0.01}\n",
    "variable_name = 0\n",
    "\n",
    "\n",
    "import os\n",
    "import time\n",
    "\n",
    "\n",
    "start_time = time.time()\n",
    "\n",
    "  \n",
    "def recv_child():\n",
    "    stats_ = {}\n",
    "    receiverSocket = socket(AF_INET, SOCK_DGRAM)\n",
    "    receiverSocket.setsockopt(SOL_SOCKET, SO_REUSEADDR, 1)\n",
    "    receiverSocket.bind(('', receiverPort))\n",
    "    \n",
    "    print ('--The receiver is ready to receive--\\n')\n",
    "\n",
    "    packets = []\n",
    "    actual_seq_num = 0\n",
    "    expected_seq_num = 0\n",
    "    while True:\n",
    "        (message, senderAddress) = receiverSocket.recvfrom(4096)\n",
    "        #if a packet is received\n",
    "        message = pickle.loads(message)\n",
    "        #if checksum is correct\n",
    "        if(message.checksum == hashlib.sha224(message.data).hexdigest()):\n",
    "          \n",
    "          t6 = time.time()\n",
    "\n",
    "          if expected_seq_num == message.seq_num:\n",
    "              packets.append(message)\n",
    "\n",
    "              if decision(prob):\n",
    "                  receiverSocket.sendto(pickle.dumps(ACK(expected_seq_num,\n",
    "                          message.checksum, actual_seq_num,message.data)), senderAddress)\n",
    "                  t6 = time.time()\n",
    "                  stats_['{0:.6f}'.format(t6 - start_time)] = \\\n",
    "                      'receiver sent ack for packet ' \\\n",
    "                      + str(expected_seq_num) + ' actual: ' \\\n",
    "                      + str(actual_seq_num)\n",
    "                  actual_seq_num += 1\n",
    "                  expected_seq_num = actual_seq_num % 2\n",
    "\n",
    "                  if message.type_ == 0:\n",
    "                      time.sleep(0.1)\n",
    "\n",
    "                      print ('--Whole file received successfully. File is ready to download--\\n')\n",
    "\n",
    "                      get_stats('receiver_stats.txt', stats_)\n",
    "\n",
    "                      pkt_to_file(recv_file_name, packets)\n",
    "              else:\n",
    "\n",
    "                  stats_['{0:.6f}'.format(t6 - start_time)] = \\\n",
    "                      'receiver dropped ack for packet ' \\\n",
    "                      + str(expected_seq_num) + ' actual: ' \\\n",
    "                      + str(actual_seq_num)\n",
    "                  actual_seq_num += 1\n",
    "                  expected_seq_num = actual_seq_num % 2\n",
    "          else:\n",
    "\n",
    "              # duplicate\n",
    "\n",
    "              receiverSocket.sendto(pickle.dumps(ACK(message.seq_num, message.checksum,\n",
    "                                    actual_seq_num - 1,message.data)), senderAddress)\n",
    "\n",
    "              stats_['{0:.6f}'.format(t6 - start_time)] = \\\n",
    "                  '--duplicate-- already received ' \\\n",
    "                  + str(message.seq_num) + ' actual: ' \\\n",
    "                  + str(actual_seq_num - 1)\n",
    "\n",
    "        else:\n",
    "          print(\"wrong checksum detected for packet : \",message.seq_num)\n",
    "          print(\"expected : \",message.checksum)\n",
    "          print(\"received : \",hashlib.sha224(message.data).hexdigest() )\n",
    "      \n",
    "\n",
    "def send_parent():\n",
    "  \n",
    "    newpid = os.fork()\n",
    "    if newpid == 0:\n",
    "        recv_child()\n",
    "    else:\n",
    "        stats_ = {}\n",
    "        time.sleep(3)\n",
    "        pids = (os.getpid(), newpid)\n",
    "        packets = []\n",
    "\n",
    "        packets = file_to_pkt(file_name=sent_file_name, sw=True,  seq_num_range= 0)\n",
    "\n",
    "        senderSocket = socket(AF_INET, SOCK_DGRAM)\n",
    "        senderSocket.setsockopt(SOL_SOCKET, SO_REUSEADDR, 1)\n",
    "        senderSocket.bind(('', senderPort))\n",
    "        message = packets\n",
    "\n",
    "        for i in range(len(packets)):\n",
    "            if decision(prob):\n",
    "                senderSocket.sendto(pickle.dumps(message[i]),\n",
    "                                    (receiverIP, receiverPort))\n",
    "                #print(\"sending message of data :\",message[i].data)\n",
    "                #print(\"sending message of checksum :\",message[i].checksum)\n",
    "                #print(\"check should be \",hashlib.sha224(message[i].data).hexdigest())\n",
    "                t1 = time.time()\n",
    "                stats_['{0:.6f}'.format(t1 - start_time)] = 'sent packet ' \\\n",
    "                    + str(i % 2) + ' actual: ' + str(i)\n",
    "            else:\n",
    "                t1 = time.time()\n",
    "                stats_['{0:.6f}'.format(t1 - start_time)] = 'sent packet ' \\\n",
    "                    + str(i % 2) + ' actual: ' + str(i)\n",
    "\n",
    "            while True:\n",
    "\n",
    "                modifiedMessage = pot_ack = None\n",
    "                try:\n",
    "                    senderSocket.settimeout(0.01)\n",
    "                    (modifiedMessage, receiverAddress) = \\\n",
    "                        senderSocket.recvfrom(4096)\n",
    "                    #receive a packet\n",
    "                    t5 = time.time()\n",
    "                    pot_ack = pickle.loads(modifiedMessage)\n",
    "                    #checking checksum\n",
    "                    if(pot_ack.checksum == hashlib.sha224(pot_ack.data).hexdigest() ):\n",
    "                      \n",
    "                      if isinstance(pot_ack, ACK):\n",
    "                          if pot_ack.seq_num == i % 2:\n",
    "                              stats_['{0:.6f}'.format(t5 - start_time)] = \\\n",
    "                                  'sender received ack for packet ' \\\n",
    "                                  + str(pot_ack.seq_num) + ' actual: ' \\\n",
    "                                  + str(pot_ack.real)\n",
    "                              modifiedMessage = None\n",
    "\n",
    "                              if i == len(packets) - 1:\n",
    "                                  get_stats('sender_stats.txt', stats_)\n",
    "                                  print ('--Whole file sent successfully--\\n')\n",
    "\n",
    "                          break\n",
    "                          \n",
    "                      else:\n",
    "                        print(\"wrong checksum detected for Ack : \",pot_ack.real,pot_ack.seq_num)\n",
    "                        print(\"expected : \",pot_ack.checksum)\n",
    "                        print(\"received : \",hashlib.sha224(pot_ack.data).hexdigest() )\n",
    "                        \n",
    "                except:\n",
    "                    senderSocket.settimeout(None)\n",
    "                    t8 = time.time()\n",
    "                    stats_['{0:.6f}'.format(t8 - start_time)] = \\\n",
    "                        '--timeout-- no ack received for packet ' \\\n",
    "                        + str(i % 2) + ' actual: ' + str(i)\n",
    "\n",
    "                    if decision(prob):\n",
    "                        senderSocket.sendto(pickle.dumps(message[i]),\n",
    "                                (receiverIP, receiverPort))\n",
    "                        t7 = time.time()\n",
    "                        stats_['{0:.6f}'.format(t7 - start_time)] = \\\n",
    "                            '--again-- sent packet ' + str(i % 2) \\\n",
    "                            + ' actual: ' + str(i)\n",
    "                    else:\n",
    "                        t7 = time.time()\n",
    "                        stats_['{0:.6f}'.format(t7 - start_time)] = \\\n",
    "                            '--again-- dropped packet ' + str(i % 2) \\\n",
    "                            + ' actual: ' + str(i)\n",
    "\n",
    "    senderSocket.close()\n",
    "\n",
    "\n",
    "send_parent()\n"
   ]
  },
  {
   "cell_type": "code",
   "execution_count": null,
   "metadata": {
    "colab": {
     "autoexec": {
      "startup": false,
      "wait_interval": 0
     },
     "base_uri": "https://localhost:8080/",
     "height": 566
    },
    "colab_type": "code",
    "collapsed": true,
    "executionInfo": {
     "elapsed": 51731,
     "status": "error",
     "timestamp": 1526242188727,
     "user": {
      "displayName": "Kareem Abdel Salam",
      "photoUrl": "//lh5.googleusercontent.com/-FFkZs03hTYw/AAAAAAAAAAI/AAAAAAAAJYE/suktak0dYDI/s50-c-k-no/photo.jpg",
      "userId": "111052780768832987513"
     },
     "user_tz": -120
    },
    "id": "ncK2ORJAL-PR",
    "outputId": "f8540d15-dfb4-49c4-9363-17a9506dde7f"
   },
   "outputs": [],
   "source": [
    "#!ps -fA | grep python\n",
    "from google.colab import files\n",
    "files.download(recv_file_name)\n",
    "files.download('receiver_stats.txt')\n",
    "files.download('sender_stats.txt')"
   ]
  },
  {
   "cell_type": "markdown",
   "metadata": {
    "colab_type": "text",
    "id": "gE1tW0sW9GDK"
   },
   "source": [
    "#GBN"
   ]
  },
  {
   "cell_type": "code",
   "execution_count": null,
   "metadata": {
    "colab": {
     "autoexec": {
      "startup": false,
      "wait_interval": 0
     }
    },
    "colab_type": "code",
    "collapsed": true,
    "id": "e892EBNKMKDK"
   },
   "outputs": [],
   "source": [
    "from threading import Thread, Event, Timer, Lock\n",
    "import time\n",
    "\n",
    "def TimerReset(*args, **kwargs):\n",
    "    \"\"\" Global function for Timer \"\"\"\n",
    "    return _TimerReset(*args, **kwargs)\n",
    "\n",
    "\n",
    "class _TimerReset(Thread):\n",
    "\n",
    "    def __init__(self, interval, function, args=[], kwargs={}):\n",
    "        Thread.__init__(self)\n",
    "        self.interval = interval\n",
    "        self.function = function\n",
    "        self.args = args\n",
    "        self.kwargs = kwargs\n",
    "        self.finished = Event()\n",
    "        self.resetted = True\n",
    "\n",
    "    def cancel(self):\n",
    "       \n",
    "        self.finished.set()\n",
    "\n",
    "    def run(self):\n",
    "        while not self.finished.isSet():\n",
    "            \n",
    "    \n",
    "            self.resetted = True\n",
    "            while self.resetted:\n",
    "                \n",
    "                self.resetted = False\n",
    "                self.finished.wait(self.interval)\n",
    "    \n",
    "            if not self.finished.isSet():\n",
    "                self.function(*self.args, **self.kwargs)\n",
    "        \n",
    "\n",
    "    def reset(self, interval=None):\n",
    "        \"\"\" Reset the timer \"\"\"\n",
    "\n",
    "        if interval:\n",
    "            \n",
    "            self.interval = interval\n",
    "        else:\n",
    "            \n",
    "            pass\n",
    "\n",
    "        self.resetted = True\n",
    "        self.finished.set()\n",
    "        self.finished.clear()"
   ]
  },
  {
   "cell_type": "code",
   "execution_count": null,
   "metadata": {
    "colab": {
     "autoexec": {
      "startup": false,
      "wait_interval": 0
     }
    },
    "colab_type": "code",
    "collapsed": true,
    "id": "P5DGE9y1_SR2"
   },
   "outputs": [],
   "source": [
    "lock = Lock()\n",
    "\n",
    "def resend(Packet,prob,start_time,stats_,senderSocket):\n",
    "\n",
    "    if decision(prob):\n",
    "      with lock:\n",
    "        senderSocket.sendto(pickle.dumps(Packet),(receiverIP, receiverPort))\n",
    "        t7 = time.time()\n",
    "        stats_['{0:.6f}'.format(t7 - start_time)] = \\\n",
    "        'sent packet ' + str(Packet.seq_num) \\\n",
    "        + ' actual: ' + str(Packet.act_num)\n",
    "        print(stats_['{0:.6f}'.format(t7 - start_time)])\n",
    "\n",
    "    else:\n",
    "      t7 = time.time()\n",
    "      stats_['{0:.6f}'.format(t7 - start_time)] = \\\n",
    "      'dropped packet ' + str(Packet.seq_num) \\\n",
    "      + ' actual: ' + str(Packet.act_num)\n",
    "\n",
    "    \n",
    "    return \n",
    "        "
   ]
  },
  {
   "cell_type": "code",
   "execution_count": null,
   "metadata": {
    "cellView": "both",
    "colab": {
     "autoexec": {
      "startup": false,
      "wait_interval": 0
     },
     "base_uri": "https://localhost:8080/",
     "height": 975
    },
    "colab_type": "code",
    "collapsed": true,
    "executionInfo": {
     "elapsed": 2151,
     "status": "error",
     "timestamp": 1526242379845,
     "user": {
      "displayName": "Kareem Abdel Salam",
      "photoUrl": "//lh5.googleusercontent.com/-FFkZs03hTYw/AAAAAAAAAAI/AAAAAAAAJYE/suktak0dYDI/s50-c-k-no/photo.jpg",
      "userId": "111052780768832987513"
     },
     "user_tz": -120
    },
    "id": "7b1J00fsBGhN",
    "outputId": "5404e16d-d940-4d65-dd57-9b717195d4ec"
   },
   "outputs": [],
   "source": [
    "#@title Parameters Tuning { form-width: \"40%\"}\n",
    "sent_file_name = \"Podington_Bear_-_Starling.mp3\" #@param {type:\"string\"}\n",
    "recv_file_name = \"gbn.mp3\" #@param {type:\"string\"}\n",
    "prob = 1 #@param {type:\"slider\", min:0, max:1, step:0.01}\n",
    "seq_num_range = 8 #@param {type:\"integer\"}\n",
    "window_size = 4 #@param {type:\"integer\"}\n",
    "time_out = 0.05 #@param {type:\"number\"}\n",
    "\n",
    "import heapq\n",
    "import os\n",
    "import time\n",
    "from google.colab import files\n",
    "\n",
    "start_time = time.time()\n",
    "\n",
    "\n",
    "def recv_child():\n",
    "    stats_ = {}\n",
    "    receiverSocket = socket(AF_INET, SOCK_DGRAM)\n",
    "    receiverSocket.setsockopt(SOL_SOCKET, SO_REUSEADDR, 1)\n",
    "    receiverSocket.bind(('', receiverPort))\n",
    "    \n",
    "    print ('--The receiver is ready to receive--\\n')\n",
    "\n",
    "    packets = []\n",
    "    actual_seq_num = 0\n",
    "    expected_seq_num = 0\n",
    "    while True:\n",
    "\n",
    "        (message, senderAddress) = receiverSocket.recvfrom(1024*(window_size+1))\n",
    "        message = pickle.loads(message)\n",
    "        t6 = time.time()\n",
    "        \n",
    "        if expected_seq_num == message.seq_num:\n",
    "            packets.append(message)\n",
    "            if decision(prob):\n",
    "                receiverSocket.sendto(pickle.dumps(ACK(expected_seq_num,\n",
    "                        0, actual_seq_num)), senderAddress)\n",
    "                t6 = time.time()\n",
    "                stats_['{0:.6f}'.format(t6 - start_time)] = \\\n",
    "                    'receiver sent ack for packet ' \\\n",
    "                    + str(expected_seq_num) + ' actual: ' \\\n",
    "                    + str(actual_seq_num)\n",
    "                actual_seq_num += 1\n",
    "                expected_seq_num = actual_seq_num % seq_num_range\n",
    "\n",
    "                if message.type_ == 0:\n",
    "                    time.sleep(0.1)\n",
    "                    \n",
    "                    print ('--Whole file received successfully. File is ready to download--\\n')\n",
    "\n",
    "                    get_stats('receiver_stats.txt', stats_)\n",
    "\n",
    "                    pkt_to_file(recv_file_name, packets)\n",
    "            else:\n",
    "\n",
    "                stats_['{0:.6f}'.format(t6 - start_time)] = \\\n",
    "                    'receiver dropped ack for packet ' \\\n",
    "                    + str(expected_seq_num) + ' actual: ' \\\n",
    "                    + str(actual_seq_num)\n",
    "                actual_seq_num += 1\n",
    "                expected_seq_num = actual_seq_num % seq_num_range\n",
    "        else:\n",
    "\n",
    "            # duplicate\n",
    "\n",
    "            receiverSocket.sendto(pickle.dumps(ACK(message.seq_num, 0,\n",
    "                                  actual_seq_num - 1)), senderAddress)\n",
    "\n",
    "            stats_['{0:.6f}'.format(t6 - start_time)] = \\\n",
    "                '--out_of_order-- received ' \\\n",
    "                + str(message.seq_num) + ' expected: ' \\\n",
    "                + str(expected_seq_num) \n",
    "\n",
    "\n",
    "\n",
    "#Sender\n",
    "def send_parent():\n",
    "    #sender process\n",
    "    newpid = os.fork()\n",
    "    #if in child\n",
    "    if newpid == 0:\n",
    "        recv_child()\n",
    "    else:#parent\n",
    "        stats_ = {}\n",
    "        time.sleep(1)\n",
    "        packets = file_to_pkt(file_name=sent_file_name, sw=False,\n",
    "                              seq_num_range=seq_num_range)\n",
    "\n",
    "        senderSocket = socket(AF_INET, SOCK_DGRAM)\n",
    "        senderSocket.setsockopt(SOL_SOCKET, SO_REUSEADDR, 1)\n",
    "        senderSocket.bind(('', senderPort))\n",
    "\n",
    "        # ## initial setting of window\n",
    "\n",
    "        base = 0\n",
    "        index = 0\n",
    "        step = 0\n",
    "        window = []\n",
    "        tm=None\n",
    "        not_acked = []\n",
    "        acked_num = 0\n",
    "\n",
    "        if index + window_size < len(packets):\n",
    "            window = packets[index:(index + window_size)]\n",
    "        else:\n",
    "            window = packets[index:len(packets)]\n",
    "\n",
    "        for i in range(len(window)):\n",
    "            #for each packet in window create an event object and  a timer/thread\n",
    "            #key of these dics to get these object is packet sequence number\n",
    "            senderSocket.sendto(pickle.dumps(window[i]),(receiverIP, receiverPort))\n",
    "           \n",
    "\n",
    "            not_acked.append(window[i].seq_num)\n",
    "        \n",
    "        tm= TimerReset(time_out,resend,[window,prob,start_time,stats_,senderSocket])\n",
    "        tm.start()\n",
    "        while True:\n",
    "\n",
    "            reply = None\n",
    "            with lock:\n",
    "              (reply, receiverAddress) = senderSocket.recvfrom(4096)\n",
    "          \n",
    "            reply = pickle.loads(reply)\n",
    "            print(\"ack seq_num:\",reply.seq_num,reply.real,\"REC. ACK\")\n",
    "            if isinstance(reply,ACK):\n",
    "               \n",
    "                \n",
    "\n",
    "                if (reply.seq_num in not_acked):\n",
    "                    \n",
    "                    not_acked.remove(reply.seq_num)\n",
    "\n",
    "                    acked_num += 1\n",
    "\n",
    "                    if acked_num == len(packets):\n",
    "                        tm.cancel()\n",
    "                        senderSocket.close()\n",
    "                        break\n",
    "\n",
    "                    if base == reply.seq_num:\n",
    "                        \n",
    "                        if len(not_acked)==0:\n",
    "                            step=window_size\n",
    "                        elif abs(base - heapq.nsmallest(1, not_acked)[0]) > window_size - 1:\n",
    "                            step = abs(seq_num_range % base - heapq.nsmallest(1, not_acked)[0])\n",
    "                        elif abs(base - heapq.nsmallest(1, not_acked)[0]) <= window_size - 1:\n",
    "                            step = abs(base - heapq.nsmallest(1, not_acked)[0])\n",
    "\n",
    "                        index+=step\n",
    "\n",
    "                        if index + window_size < len(packets):\n",
    "                            \n",
    "                            window = packets[index:index + window_size]\n",
    " \n",
    "                        else:\n",
    "\n",
    "                            window = packets[index:len(packets)]\n",
    "                                    \n",
    "                        \n",
    "\n",
    "                        base= window[0].seq_num\n",
    "                        print(window[0].act_num,\" ---- \",window[len(window)-1].act_num)\n",
    "                        \n",
    "                        tm.reset()\n",
    "                \n",
    "                        for item in window[-step:]:\n",
    "                            senderSocket.sendto(pickle.dumps(item),(receiverIP, receiverPort))\n",
    "                            not_acked.append(item.seq_num)\n",
    "\n",
    "\n",
    "\n",
    "        \n",
    "\n",
    "        return\n",
    "\n",
    "\n",
    "\n",
    "send_parent()\n"
   ]
  },
  {
   "cell_type": "code",
   "execution_count": null,
   "metadata": {
    "colab": {
     "autoexec": {
      "startup": false,
      "wait_interval": 0
     }
    },
    "colab_type": "code",
    "collapsed": true,
    "id": "R8groPB9BGhR"
   },
   "outputs": [],
   "source": [
    "from google.colab import files\n",
    "files.download(recv_file_name)\n",
    "files.download('receiver_stats.txt')\n",
    "files.download('sender_stats.txt')"
   ]
  },
  {
   "cell_type": "markdown",
   "metadata": {
    "colab_type": "text",
    "id": "C4Q9GCc69HEZ"
   },
   "source": [
    "# SEL. REPEAT\n"
   ]
  },
  {
   "cell_type": "code",
   "execution_count": null,
   "metadata": {
    "colab": {
     "autoexec": {
      "startup": false,
      "wait_interval": 0
     }
    },
    "colab_type": "code",
    "collapsed": true,
    "id": "9nkkUflKqatg"
   },
   "outputs": [],
   "source": [
    "from concurrent.futures import ThreadPoolExecutor, wait, as_completed\n",
    "\n",
    "from time import sleep\n",
    "from random import randint\n",
    "from threading import Thread, Lock\n",
    "\n",
    "lock=Lock()\n",
    "\n",
    "def time_alarm(Packet, prob, time_out, senderSocket,pool,timers,dummy):\n",
    "    time.sleep(time_out)\n",
    "    \n",
    "    return Packet, Packet.seq_num, senderSocket, prob, time_out, pool,timers,dummy\n",
    "   \n",
    "def resend(fn):\n",
    "    \n",
    "    packet,number,senderSocket, prob, time_out, pool, timers,dummy=fn.result()\n",
    "    \n",
    "    if decision(prob):\n",
    "      with lock:\n",
    "        try:\n",
    "          senderSocket.sendto(pickle.dumps(packet),(receiverIP, receiverPort))\n",
    "          print(\"resent\",number,\"actual\",packet.act_num)\n",
    "        except:\n",
    "          pass\n",
    "          \n",
    "          \n",
    "    else:\n",
    "    \n",
    "      timers[number]=pool.submit(time_alarm, packet, prob, time_out,senderSocket,pool,dummy+1)\n",
    "\n",
    "            \n",
    "            "
   ]
  },
  {
   "cell_type": "code",
   "execution_count": null,
   "metadata": {
    "colab": {
     "autoexec": {
      "startup": false,
      "wait_interval": 0
     }
    },
    "colab_type": "code",
    "collapsed": true,
    "id": "GGstcv-O-mW-"
   },
   "outputs": [],
   "source": [
    "def is_in_range(num,start,step_size,range_):\n",
    "  lim=[ i%range_ for i in range(start,start+step_size)]\n",
    "  if num in lim:\n",
    "    return True\n",
    "  else:\n",
    "    return False\n",
    "  \n",
    "def is_in_lrange(num,start,step_size,range_):\n",
    "  lim=[ i%range_ for i in range(start-1,start-step_size)]\n",
    "  if num in lim:\n",
    "    return True\n",
    "  else:\n",
    "    return False\n",
    "    \n",
    "\n",
    "          "
   ]
  },
  {
   "cell_type": "code",
   "execution_count": null,
   "metadata": {
    "colab": {
     "autoexec": {
      "startup": false,
      "wait_interval": 0
     }
    },
    "colab_type": "code",
    "collapsed": true,
    "id": "UHOtszZoujiM"
   },
   "outputs": [],
   "source": [
    "#@title Parameters Tuning{ form-width: \"27%\" }\n",
    "sent_file_name = 'Podington_Bear_-_Starling.mp3'  # @param {type:\"string\"}\n",
    "recv_file_name = 'sel_rep.mp3'  # @param {type:\"string\"}\n",
    "prob = 1  # @param {type:\"slider\", min:0, max:1, step:0.01}\n",
    "window_size = 4  # @param {type:\"integer\"}\n",
    "seq_num_range = 8  # @param {type:\"integer\"}\n",
    "time_out = 0.1 # @param {type:\"number\"}\n",
    "\n",
    "import heapq\n",
    "import os\n",
    "import time\n",
    "import threading\n",
    "from threading import Thread\n",
    "start_time = time.time()"
   ]
  },
  {
   "cell_type": "code",
   "execution_count": null,
   "metadata": {
    "colab": {
     "autoexec": {
      "startup": false,
      "wait_interval": 0
     }
    },
    "colab_type": "code",
    "collapsed": true,
    "id": "RRLwDmwXBdIP"
   },
   "outputs": [],
   "source": [
    "def recv_child():\n",
    "    stats_ = {}\n",
    "    #UDP socket\n",
    "    receiverSocket = socket(AF_INET, SOCK_DGRAM)\n",
    "    #reuse address when done with it\n",
    "    receiverSocket.setsockopt(SOL_SOCKET, SO_REUSEADDR, 1)\n",
    "    receiverSocket.bind(('', receiverPort))\n",
    "\n",
    "    print ('--The receiver is ready to receive--\\n')\n",
    "\n",
    "    packets = []\n",
    "    window = []\n",
    "    received = []\n",
    "    recv_base = 0\n",
    "    flag_end = False\n",
    "#   receiving while loop, message is a packet of the file sent\n",
    "    while True:\n",
    "        print(received)\n",
    "        (message, senderAddress) = receiverSocket.recvfrom(8192)\n",
    "        \n",
    "        message = pickle.loads(message)\n",
    "        #last packet\n",
    "        if message.type_ == 0:\n",
    "            flag_end = True\n",
    "        #if packet received is within current window\n",
    "        if is_in_lrange(message.seq_num, recv_base, window_size,\n",
    "                        seq_num_range) or is_in_range(message.seq_num,\n",
    "                recv_base, window_size, seq_num_range):\n",
    "            print(\"YES in range:\",message.act_num)\n",
    "            if True:\n",
    "                \n",
    "                receiverSocket.sendto(pickle.dumps(ACK(message.seq_num,\n",
    "                        0, message.act_num)), senderAddress)\n",
    "                t6 = time.time()\n",
    "                stats_['{0:.6f}'.format(t6 - start_time)] = \\\n",
    "                    'receiver sent ack for packet ' \\\n",
    "                    + str(message.seq_num) + ' actual: ' \\\n",
    "                    + str(message.act_num)\n",
    "                print (stats_['{0:.6f}'.format(t6 - start_time)])\n",
    "            #else if packet is dropped\n",
    "            else:\n",
    "                t6 = time.time()\n",
    "                stats_['{0:.6f}'.format(t6 - start_time)] = \\\n",
    "                    'receiver dropped ack for packet ' \\\n",
    "                    + str(message.seq_num) + ' actual: ' \\\n",
    "                    + str(message.act_num)\n",
    "\n",
    "        if message.seq_num in received:\n",
    "            continue\n",
    "\n",
    "        if message.seq_num<window_size:\n",
    "          if (message.seq_num+seq_num_range- window_size) in received:\n",
    "            received.remove(message.seq_num+seq_num_range- window_size)\n",
    "        else:\n",
    "          if (message.seq_num-window_size) in received:\n",
    "            received.remove(message.seq_num-window_size)\n",
    "\n",
    "        received.append(message.seq_num)\n",
    "\n",
    "        if recv_base == message.seq_num:\n",
    "            window.append(message)\n",
    "            for (i, j) in zip(sorted(window)[0::1], sorted(window)[1::1]):\n",
    "                if j.seq_num == (i.seq_num + 1) % seq_num_range \\\n",
    "                    or j.seq_num == i.seq_num + 1:\n",
    "                    recv_base = j.seq_num\n",
    "                    packets.append(i)\n",
    "                    window.remove(i)\n",
    "\n",
    "                else:\n",
    "                    recv_base = (i.seq_num + 1) % seq_num_range\n",
    "                    packets.append(i)\n",
    "                    window.remove(i)\n",
    "\n",
    "                    break\n",
    "\n",
    "            if len(window) == 1 and recv_base == window[0].seq_num:\n",
    "                recv_base = (window[0].seq_num + 1) % seq_num_range\n",
    "                packets.append(window[0])\n",
    "                window.remove(window[0])\n",
    "                \n",
    "\n",
    "            \n",
    "        else:\n",
    "            window.append(message)\n",
    "            \n",
    "        if packets:\n",
    "          if flag_end:\n",
    "            time.sleep(0.1)\n",
    "\n",
    "            print ('--Whole file received successfully. File is ready to download--\\n')\n",
    "\n",
    "            get_stats('receiver_stats.txt', stats_)\n",
    "\n",
    "            pkt_to_file(recv_file_name, packets)\n",
    "            receiverSocket.close()\n",
    "            break\n",
    "\n",
    "    return\n",
    "\n"
   ]
  },
  {
   "cell_type": "code",
   "execution_count": null,
   "metadata": {
    "colab": {
     "autoexec": {
      "startup": false,
      "wait_interval": 0
     }
    },
    "colab_type": "code",
    "collapsed": true,
    "id": "sZEWz5dWBTb6"
   },
   "outputs": [],
   "source": [
    "#Sender\n",
    "def send_parent():\n",
    "    #sender process\n",
    "    newpid = os.fork()\n",
    "    #if in child\n",
    "    if newpid == 0:\n",
    "        recv_child()\n",
    "    else:#parent\n",
    "        stats_ = {}\n",
    "        time.sleep(1)\n",
    "        packets = file_to_pkt(file_name=sent_file_name, sw=False,\n",
    "                              seq_num_range=seq_num_range)\n",
    "\n",
    "        senderSocket = socket(AF_INET, SOCK_DGRAM)\n",
    "        senderSocket.setsockopt(SOL_SOCKET, SO_REUSEADDR, 1)\n",
    "        senderSocket.bind(('', senderPort))\n",
    "\n",
    "        # ## initial setting of window\n",
    "        print(\"length of packets:\",len(packets))\n",
    "        base = 0\n",
    "        index = 0\n",
    "        step = 0\n",
    "        window = []\n",
    "        timers = {}\n",
    "        not_acked = []\n",
    "        acked_num = 0\n",
    "\n",
    "        if index + window_size < len(packets):\n",
    "            window = packets[index:(index + window_size)]\n",
    "        else:\n",
    "            window = packets[index:len(packets)]\n",
    "\n",
    "        for i in range(len(window)):\n",
    "            #for each packet in window create an event object and  a timer/thread\n",
    "            #key of these dics to get these object is packet sequence number\n",
    "            senderSocket.sendto(pickle.dumps(window[i]),(receiverIP, receiverPort))\n",
    "            timers[window[i].seq_num] = TimerReset(time_out,resend,[window[i],prob,start_time,stats_,senderSocket])\n",
    "            timers[window[i].seq_num].start()\n",
    "            not_acked.append(window[i].seq_num)\n",
    "\n",
    "        while True:\n",
    "\n",
    "            reply = None\n",
    "            with lock:\n",
    "              (reply, receiverAddress) = senderSocket.recvfrom(4096)\n",
    "           \n",
    "            reply = pickle.loads(reply)\n",
    "            print(\"ack seq_num:\",reply.seq_num,reply.real,\"REC. ACK\")\n",
    "            if isinstance(reply,ACK):\n",
    "               \n",
    "                \n",
    "\n",
    "                if (reply.seq_num in timers.keys()):\n",
    "\n",
    "                    timers[reply.seq_num].cancel()\n",
    "                    del timers[reply.seq_num]\n",
    "                    try:\n",
    "                      not_acked.remove(reply.seq_num)\n",
    "                    except ValueError:\n",
    "                      print(not_acked,reply.seq_num)\n",
    "\n",
    "                    acked_num += 1\n",
    "\n",
    "                    if acked_num == len(packets):\n",
    "                        senderSocket.close()\n",
    "                        break\n",
    "\n",
    "                    if base == reply.seq_num:\n",
    "                        if len(not_acked)==0:\n",
    "                            step=window_size\n",
    "                        elif abs(base - heapq.nsmallest(1, not_acked)[0]) > window_size - 1:\n",
    "                            step = abs(seq_num_range % base - heapq.nsmallest(1, not_acked)[0])\n",
    "                        elif abs(base - heapq.nsmallest(1, not_acked)[0]) <= window_size - 1:\n",
    "                            step = abs(base - heapq.nsmallest(1, not_acked)[0])\n",
    "\n",
    "                        index+=step\n",
    "\n",
    "                        if index + window_size < len(packets):\n",
    "                            \n",
    "                            window = packets[index:index + window_size]\n",
    " \n",
    "                        else:\n",
    "\n",
    "                            window = packets[index:len(packets)]\n",
    "\n",
    "                        \n",
    "\n",
    "                        base= window[0].seq_num\n",
    "                        print(window[0].act_num,\" ---- \",window[len(window)-1].act_num)\n",
    "\n",
    "                        for item in window[-step:]:\n",
    "                            senderSocket.sendto(pickle.dumps(item),(receiverIP, receiverPort))\n",
    "                            \n",
    "                            timers[item.seq_num] = TimerReset(time_out,resend,[item,prob,start_time,stats_,senderSocket])\n",
    "                            timers[item.seq_num].start()\n",
    "                            not_acked.append(item.seq_num)\n",
    "\n",
    "\n",
    "\n",
    "        \n",
    "\n",
    "        return\n",
    "\n",
    "\n"
   ]
  },
  {
   "cell_type": "code",
   "execution_count": null,
   "metadata": {
    "colab": {
     "autoexec": {
      "startup": false,
      "wait_interval": 0
     },
     "base_uri": "https://localhost:8080/",
     "height": 1323
    },
    "colab_type": "code",
    "collapsed": true,
    "executionInfo": {
     "elapsed": 26938,
     "status": "error",
     "timestamp": 1526242471508,
     "user": {
      "displayName": "Kareem Abdel Salam",
      "photoUrl": "//lh5.googleusercontent.com/-FFkZs03hTYw/AAAAAAAAAAI/AAAAAAAAJYE/suktak0dYDI/s50-c-k-no/photo.jpg",
      "userId": "111052780768832987513"
     },
     "user_tz": -120
    },
    "id": "ef-FqevXCCuZ",
    "outputId": "68750420-27f1-420c-db54-19a89873a1f1"
   },
   "outputs": [],
   "source": [
    "send_parent()"
   ]
  },
  {
   "cell_type": "code",
   "execution_count": null,
   "metadata": {
    "colab": {
     "autoexec": {
      "startup": false,
      "wait_interval": 0
     }
    },
    "colab_type": "code",
    "collapsed": true,
    "id": "kD1HqTtzcrdJ"
   },
   "outputs": [],
   "source": [
    "from google.colab import files\n",
    "files.download(recv_file_name)"
   ]
  }
 ],
 "metadata": {
  "colab": {
   "collapsed_sections": [],
   "default_view": {},
   "name": "NETWORKS_SOCKET_PROG.ipynb",
   "provenance": [],
   "version": "0.3.2",
   "views": {}
  },
  "kernelspec": {
   "display_name": "Python 3",
   "language": "python",
   "name": "python3"
  },
  "language_info": {
   "codemirror_mode": {
    "name": "ipython",
    "version": 3
   },
   "file_extension": ".py",
   "mimetype": "text/x-python",
   "name": "python",
   "nbconvert_exporter": "python",
   "pygments_lexer": "ipython3",
   "version": "3.6.2"
  }
 },
 "nbformat": 4,
 "nbformat_minor": 1
}
