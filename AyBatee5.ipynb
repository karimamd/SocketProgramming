{
 "cells": [
  {
   "cell_type": "code",
   "execution_count": 0,
   "metadata": {
    "colab": {
     "autoexec": {
      "startup": false,
      "wait_interval": 0
     }
    },
    "colab_type": "code",
    "collapsed": true,
    "id": "NFwqrc5Zn43F"
   },
   "outputs": [],
   "source": []
  },
  {
   "cell_type": "code",
   "execution_count": 2,
   "metadata": {
    "colab": {
     "autoexec": {
      "startup": false,
      "wait_interval": 0
     },
     "base_uri": "https://localhost:8080/",
     "height": 34
    },
    "colab_type": "code",
    "executionInfo": {
     "elapsed": 1875,
     "status": "ok",
     "timestamp": 1524690315961,
     "user": {
      "displayName": "Zyad Shokry",
      "photoUrl": "//lh3.googleusercontent.com/-ZHjQe3B0AMU/AAAAAAAAAAI/AAAAAAAAAHY/iY3O8GlcjrA/s50-c-k-no/photo.jpg",
      "userId": "117974362878044525147"
     },
     "user_tz": -120
    },
    "id": "2PH2pq0LI5YT",
    "outputId": "78dcfad9-a869-45ca-dfac-7fa018b8ffd6"
   },
   "outputs": [
    {
     "name": "stdout",
     "output_type": "stream",
     "text": [
      "84.233.53.199 \r\n"
     ]
    }
   ],
   "source": [
    "!hostname -I\n"
   ]
  },
  {
   "cell_type": "code",
   "execution_count": 3,
   "metadata": {
    "colab": {
     "autoexec": {
      "startup": false,
      "wait_interval": 0
     }
    },
    "colab_type": "code",
    "id": "j3rE1hCOHS93"
   },
   "outputs": [
    {
     "name": "stdout",
     "output_type": "stream",
     "text": [
      "--2018-04-26 09:42:45--  https://www.dropbox.com/s/tce4mdqz8n5xqvs/text_file.txt\n",
      "Resolving www.dropbox.com (www.dropbox.com)... 162.125.66.1, 2620:100:6022:1::a27d:4201\n",
      "Connecting to www.dropbox.com (www.dropbox.com)|162.125.66.1|:443... connected.\n",
      "HTTP request sent, awaiting response... 302 Found\n",
      "Location: https://dl.dropboxusercontent.com/content_link/Nj5LIDhkrwjJyBWAvzs8ZsIiZXoMFgHHmgYTPRBtHEHMn3PTEABZz1wqhkbQwWdc/file [following]\n",
      "--2018-04-26 09:42:52--  https://dl.dropboxusercontent.com/content_link/Nj5LIDhkrwjJyBWAvzs8ZsIiZXoMFgHHmgYTPRBtHEHMn3PTEABZz1wqhkbQwWdc/file\n",
      "Resolving dl.dropboxusercontent.com (dl.dropboxusercontent.com)... 162.125.66.6, 2620:100:6022:6::a27d:4206\n",
      "Connecting to dl.dropboxusercontent.com (dl.dropboxusercontent.com)|162.125.66.6|:443... connected.\n",
      "HTTP request sent, awaiting response... 200 OK\n",
      "Length: 4198398 (4.0M) [text/plain]\n",
      "Saving to: ‘text_file.txt.3’\n",
      "\n",
      "text_file.txt.3     100%[===================>]   4.00M  58.7KB/s    in 72s     \n",
      "\n",
      "2018-04-26 09:44:06 (56.6 KB/s) - ‘text_file.txt.3’ saved [4198398/4198398]\n",
      "\n",
      "--2018-04-26 09:44:06--  https://www.dropbox.com/s/g8oq6mm2j1zhkv2/test_file.txt\n",
      "Resolving www.dropbox.com (www.dropbox.com)... 162.125.66.1, 2620:100:6022:1::a27d:4201\n",
      "Connecting to www.dropbox.com (www.dropbox.com)|162.125.66.1|:443... connected.\n",
      "HTTP request sent, awaiting response... 302 Found\n",
      "Location: https://dl.dropboxusercontent.com/content_link/gtUvt5d2A9jHqGrmtNiKi7fgflvWPp3oj6zhfzL7I5SWW1bbC3IYnd3tpaHA1Jhk/file [following]\n",
      "--2018-04-26 09:44:07--  https://dl.dropboxusercontent.com/content_link/gtUvt5d2A9jHqGrmtNiKi7fgflvWPp3oj6zhfzL7I5SWW1bbC3IYnd3tpaHA1Jhk/file\n",
      "Resolving dl.dropboxusercontent.com (dl.dropboxusercontent.com)... 162.125.66.6, 2620:100:6022:6::a27d:4206\n",
      "Connecting to dl.dropboxusercontent.com (dl.dropboxusercontent.com)|162.125.66.6|:443... connected.\n",
      "HTTP request sent, awaiting response... 200 OK\n",
      "Length: 24576 (24K) [text/plain]\n",
      "Saving to: ‘test_file.txt.3’\n",
      "\n",
      "test_file.txt.3     100%[===================>]  24.00K  83.3KB/s    in 0.3s    \n",
      "\n",
      "2018-04-26 09:44:08 (83.3 KB/s) - ‘test_file.txt.3’ saved [24576/24576]\n",
      "\n",
      "1.1.1.jpg\t     Chapter_5_V6.01.ppt\n",
      "1.1.2.jpg\t     Chapter_6_V6.0.ppt\n",
      "1.1.3.jpg\t     Chapter_7_V6.0.ppt\n",
      "1.1.4.jpg\t     Chapter_8_V6.0.ppt\n",
      "1.1.jpg\t\t     Chapter_9_V6.0.ppt\n",
      "1.2.jpg\t\t     Networks-sheet2-kareem-3356.odt\n",
      "1.3.jpg\t\t     notes and questions\n",
      "1.4.jpg\t\t     Sheet_1.pdf\n",
      "1.5.jpg\t\t     Sheet_2.pdf\n",
      "1.jpg\t\t     Socket_Programming2.ipynb\n",
      "2.jpg\t\t     Socket_Programming.ipynb\n",
      "AyBatee5.ipynb\t     SSPNetworksSpring_2018Introduction.ppt\n",
      "ch2 summary.pdf      test_file.txt\n",
      "Chapter_1_V6.1.pdf   test_file.txt.1\n",
      "Chapter_1_V6.1.ppt   test_file.txt.2\n",
      "Chapter_2_V6.3.pdf   test_file.txt.3\n",
      "Chapter_2_V6.3.ppt   text_file.txt\n",
      "Chapter_3_V6.01.pdf  text_file.txt.1\n",
      "Chapter_3_V6.0.ppt   text_file.txt.2\n",
      "Chapter_4_V6.2.ppt   text_file.txt.3\n"
     ]
    }
   ],
   "source": [
    "!wget https://www.dropbox.com/s/tce4mdqz8n5xqvs/text_file.txt   # test_file.txt file of 4.00 MB that will be sent\n",
    "!wget https://www.dropbox.com/s/g8oq6mm2j1zhkv2/test_file.txt\n",
    "!ls\n"
   ]
  },
  {
   "cell_type": "code",
   "execution_count": 4,
   "metadata": {
    "colab": {
     "autoexec": {
      "startup": false,
      "wait_interval": 0
     },
     "base_uri": "https://localhost:8080/",
     "height": 51
    },
    "colab_type": "code",
    "executionInfo": {
     "elapsed": 1823,
     "status": "ok",
     "timestamp": 1524690319864,
     "user": {
      "displayName": "Zyad Shokry",
      "photoUrl": "//lh3.googleusercontent.com/-ZHjQe3B0AMU/AAAAAAAAAAI/AAAAAAAAAHY/iY3O8GlcjrA/s50-c-k-no/photo.jpg",
      "userId": "117974362878044525147"
     },
     "user_tz": -120
    },
    "id": "pRLP2LCbrHm7",
    "outputId": "8a30860b-fc96-434c-e9ca-49721b6914d5"
   },
   "outputs": [
    {
     "name": "stdout",
     "output_type": "stream",
     "text": [
      "1.1.1.jpg\t     Chapter_5_V6.01.ppt\r\n",
      "1.1.2.jpg\t     Chapter_6_V6.0.ppt\r\n",
      "1.1.3.jpg\t     Chapter_7_V6.0.ppt\r\n",
      "1.1.4.jpg\t     Chapter_8_V6.0.ppt\r\n",
      "1.1.jpg\t\t     Chapter_9_V6.0.ppt\r\n",
      "1.2.jpg\t\t     Networks-sheet2-kareem-3356.odt\r\n",
      "1.3.jpg\t\t     notes and questions\r\n",
      "1.4.jpg\t\t     Sheet_1.pdf\r\n",
      "1.5.jpg\t\t     Sheet_2.pdf\r\n",
      "1.jpg\t\t     Socket_Programming2.ipynb\r\n",
      "2.jpg\t\t     Socket_Programming.ipynb\r\n",
      "AyBatee5.ipynb\t     SSPNetworksSpring_2018Introduction.ppt\r\n",
      "ch2 summary.pdf      test_file.txt\r\n",
      "Chapter_1_V6.1.pdf   test_file.txt.1\r\n",
      "Chapter_1_V6.1.ppt   test_file.txt.2\r\n",
      "Chapter_2_V6.3.pdf   test_file.txt.3\r\n",
      "Chapter_2_V6.3.ppt   text_file.txt\r\n",
      "Chapter_3_V6.01.pdf  text_file.txt.1\r\n",
      "Chapter_3_V6.0.ppt   text_file.txt.2\r\n",
      "Chapter_4_V6.2.ppt   text_file.txt.3\r\n"
     ]
    }
   ],
   "source": [
    "#!rm -r text_file.txt.1\n",
    "!ls"
   ]
  },
  {
   "cell_type": "code",
   "execution_count": 13,
   "metadata": {
    "colab": {
     "autoexec": {
      "startup": false,
      "wait_interval": 0
     }
    },
    "colab_type": "code",
    "collapsed": true,
    "id": "4xUpYxSXMs8g"
   },
   "outputs": [],
   "source": [
    "import socket, pickle\n",
    "from socket import *\n",
    "receiverIP = '84.233.53.199'\n",
    "senderPort = 12000\n",
    "receiverPort = 5200 "
   ]
  },
  {
   "cell_type": "markdown",
   "metadata": {
    "colab_type": "toc",
    "id": "_RlKiehZUIDg"
   },
   "source": [
    "<p align=\"center\"> \n",
    "<img src=\"https://www.dropbox.com/temp_thumb_from_token/s/er7vrw981siwy9b?size_mode=4&preserve_transparency=true&size=1600x1200\">\n",
    "</p>\n"
   ]
  },
  {
   "cell_type": "code",
   "execution_count": 6,
   "metadata": {
    "colab": {
     "autoexec": {
      "startup": false,
      "wait_interval": 0
     }
    },
    "colab_type": "code",
    "id": "Os13kHMBF3gy"
   },
   "outputs": [
    {
     "data": {
      "text/plain": [
       "'\\n*1* AF_INET indicates that the underlying network is using IPv4\\n*2* socket is of type SOCK_DGRAM, which means it is a UDP socket\\n*3* forking server child process for receiving message from client\\n*4* \"serverSocket.bind((’’, serverPort))\" binds the port number 12000 to the \\n    server’s socket. Accordingly, when anyone sends a packet to port 12000 at the IP\\n    address of the server, that packet will be directed to this socket.\\n*5* when a packet arrives from the Internet at the client’s socket, the packet’s\\n    data is put into the variable modifiedMessage while the packet’s source\\n    address is put into the variable serverAddress.\\n*6* \"recvfrom(...)\" takes the buffer size 2048 as input\\n*7* \"print(modifiedMessage)\" prints out modifiedMessage on the user’s display.\\nIt should be the original line that the user typed, but now capitalized.\\n\\n\\n\\nimport os\\n\\ndef child():\\n   print(\\'\\nA new child \\',  os.getpid())\\n   serverSocket = socket(AF_INET, SOCK_DGRAM)\\n   serverSocket.setsockopt(SOL_SOCKET, SO_REUSEADDR, 1)\\n   serverSocket.bind((\\'\\', serverPort))\\n   print(\"The server is ready to receive\")\\n   while 1:\\n      message, clientAddress = serverSocket.recvfrom(2048)\\n      print(\"addr\",clientAddress,\"\\n\",message)\\n\\n      #modifiedMessage = message.upper() # to uppercase \\n      serverSocket.sendto(\"from server to client\".encode(), clientAddress)\\n    #os._exit(0)\\n    \\n\\ndef parent():\\n   #while (True):\\n      newpid = os.fork()\\n      #if in child process\\n      if newpid == 0:\\n         child()\\n      #parent process\\n      else:\\n         pids = (os.getpid(), newpid)\\n         print(\"parent: %d, child: %d\\n\" % pids)\\n         clientSocket = socket(AF_INET, SOCK_DGRAM)\\n         clientSocket.setsockopt(SOL_SOCKET, SO_REUSEADDR, 1)\\n         clientSocket.bind((\\'\\', clientPort))\\n         message = collectedData\\n         clientSocket.sendto(message,(serverIP, serverPort))\\n         modifiedMessage, serverAddress = clientSocket.recvfrom(2048)\\n         print(modifiedMessage)\\n         clientSocket.close()\\n         \\n\\n#serverPort+=1\\n#clientPort+=1\\nparent()\\n'"
      ]
     },
     "execution_count": 6,
     "metadata": {},
     "output_type": "execute_result"
    }
   ],
   "source": [
    "# code is mostly (98%) taken from the book\n",
    "# ----------------------------------------\n",
    "# details below quoted from the book\n",
    "# still needs \"many\" further \"modifications\"\n",
    "\n",
    "'''\n",
    "*1* AF_INET indicates that the underlying network is using IPv4\n",
    "*2* socket is of type SOCK_DGRAM, which means it is a UDP socket\n",
    "*3* forking server child process for receiving message from client\n",
    "*4* \"serverSocket.bind((’’, serverPort))\" binds the port number 12000 to the \n",
    "    server’s socket. Accordingly, when anyone sends a packet to port 12000 at the IP\n",
    "    address of the server, that packet will be directed to this socket.\n",
    "*5* when a packet arrives from the Internet at the client’s socket, the packet’s\n",
    "    data is put into the variable modifiedMessage while the packet’s source\n",
    "    address is put into the variable serverAddress.\n",
    "*6* \"recvfrom(...)\" takes the buffer size 2048 as input\n",
    "*7* \"print(modifiedMessage)\" prints out modifiedMessage on the user’s display.\n",
    "It should be the original line that the user typed, but now capitalized.\n",
    "\n",
    "\n",
    "\n",
    "import os\n",
    "\n",
    "def child():\n",
    "   print('\\nA new child ',  os.getpid())\n",
    "   serverSocket = socket(AF_INET, SOCK_DGRAM)\n",
    "   serverSocket.setsockopt(SOL_SOCKET, SO_REUSEADDR, 1)\n",
    "   serverSocket.bind(('', serverPort))\n",
    "   print(\"The server is ready to receive\")\n",
    "   while 1:\n",
    "      message, clientAddress = serverSocket.recvfrom(2048)\n",
    "      print(\"addr\",clientAddress,\"\\n\",message)\n",
    "\n",
    "      #modifiedMessage = message.upper() # to uppercase \n",
    "      serverSocket.sendto(\"from server to client\".encode(), clientAddress)\n",
    "    #os._exit(0)\n",
    "    \n",
    "\n",
    "def parent():\n",
    "   #while (True):\n",
    "      newpid = os.fork()\n",
    "      #if in child process\n",
    "      if newpid == 0:\n",
    "         child()\n",
    "      #parent process\n",
    "      else:\n",
    "         pids = (os.getpid(), newpid)\n",
    "         print(\"parent: %d, child: %d\\n\" % pids)\n",
    "         clientSocket = socket(AF_INET, SOCK_DGRAM)\n",
    "         clientSocket.setsockopt(SOL_SOCKET, SO_REUSEADDR, 1)\n",
    "         clientSocket.bind(('', clientPort))\n",
    "         message = collectedData\n",
    "         clientSocket.sendto(message,(serverIP, serverPort))\n",
    "         modifiedMessage, serverAddress = clientSocket.recvfrom(2048)\n",
    "         print(modifiedMessage)\n",
    "         clientSocket.close()\n",
    "         \n",
    "\n",
    "#serverPort+=1\n",
    "#clientPort+=1\n",
    "parent()\n",
    "'''"
   ]
  },
  {
   "cell_type": "code",
   "execution_count": 45,
   "metadata": {
    "colab": {
     "autoexec": {
      "startup": false,
      "wait_interval": 0
     }
    },
    "colab_type": "code",
    "id": "7pyPwRRiS-5H"
   },
   "outputs": [],
   "source": [
    "class Packet:\n",
    "  def __init__(\n",
    "  self,\n",
    "  seq_num=None,\n",
    "  checksum=None,\n",
    "  data=None,\n",
    "  type_ =1\n",
    "  ):\n",
    "    self.seq_num=seq_num\n",
    "    self.checksum=checksum\n",
    "    self.data=data\n",
    "    self.type_=type_\n",
    "\n",
    "class ACK:\n",
    "  def __init__(\n",
    "  self,\n",
    "  seq_num=None,\n",
    "  checksum=None,\n",
    "  real=None\n",
    "  ):\n",
    "    self.seq_num=seq_num\n",
    "    self.checksum=checksum\n",
    "    self.real=real\n",
    "  "
   ]
  },
  {
   "cell_type": "code",
   "execution_count": 0,
   "metadata": {
    "colab": {
     "autoexec": {
      "startup": false,
      "wait_interval": 0
     }
    },
    "colab_type": "code",
    "collapsed": true,
    "id": "Ecr1-fPAL5bL"
   },
   "outputs": [],
   "source": [
    "'''\n",
    "# code is mostly (98%) taken from the book\n",
    "# ----------------------------------------\n",
    "# details below quoted from the book\n",
    "# still needs \"many\" further \"modifications\"\n",
    "'''\n",
    "\n",
    "'''\n",
    "*1* AF_INET indicates that the underlying network is using IPv4\n",
    "*2* socket is of type SOCK_DGRAM, which means it is a UDP socket\n",
    "*3* forking server child process for receiving message from client\n",
    "*4* \"serverSocket.bind((’’, serverPort))\" binds the port number 12000 to the \n",
    "    server’s socket. Accordingly, when anyone sends a packet to port 12000 at the IP\n",
    "    address of the server, that packet will be directed to this socket.\n",
    "*5* when a packet arrives from the Internet at the client’s socket, the packet’s\n",
    "    data is put into the variable modifiedMessage while the packet’s source\n",
    "    address is put into the variable serverAddress.\n",
    "*6* \"recvfrom(...)\" takes the buffer size 2048 as input\n",
    "*7* \"print(modifiedMessage)\" prints out modifiedMessage on the user’s display.\n",
    "    It should be the original line that the user typed, but now capitalized.\n",
    "'''\n",
    "'''\n",
    "\n",
    "import os\n",
    "\n",
    "def child():\n",
    "   #print('\\nA new child ',  os.getpid())\n",
    "   serverSocket = socket(AF_INET, SOCK_DGRAM)\n",
    "   serverSocket.setsockopt(SOL_SOCKET, SO_REUSEADDR, 1)\n",
    "   serverSocket.bind(('', serverPort))\n",
    "   print(\"The server is ready to receive\")\n",
    "   count=0\n",
    "   while 1:\n",
    "    \n",
    "    print(\"recieved \"+str(count))\n",
    "    count+=1\n",
    "    message, clientAddress = serverSocket.recvfrom(2048)\n",
    "    print(\"addr\",clientAddress)\n",
    "      \n",
    "    modifiedMessage = pickle.loads(message)\n",
    "      \n",
    "    number=modifiedMessage.seq_num\n",
    "      #modifiedMessage = message.upper() # to uppercase \n",
    "    serverSocket.sendto((\"thanks\"+str(number)).encode(), clientAddress)\n",
    "    #os._exit(0)\n",
    "    \n",
    "\n",
    "def parent():\n",
    "   #while (True):\n",
    "      newpid = os.fork()\n",
    "      #if in child process\n",
    "      if newpid == 0:\n",
    "         child()\n",
    "      #parent process\n",
    "      else:\n",
    "         pids = (os.getpid(), newpid)\n",
    "         packets=[]\n",
    "         for i in range(15):\n",
    "            packets.append(Packet(i,0,b'kareem'))\n",
    "                           \n",
    "         #print(\"parent: %d, child: %d\\n\" % pids)\n",
    "         clientSocket = socket(AF_INET, SOCK_DGRAM)\n",
    "         clientSocket.setsockopt(SOL_SOCKET, SO_REUSEADDR, 1)\n",
    "         clientSocket.bind(('', clientPort))\n",
    "         message = packets\n",
    "         #print(pickle.dumps(message))\n",
    "         # pickle.dumps converts any object of any type to bytes type\n",
    "         for i in range(15):\n",
    "           print(\"message \"+ str(i))      \n",
    "           clientSocket.sendto(pickle.dumps(message[i]),(serverIP, serverPort))\n",
    "           print(\"sent\")\n",
    "           modifiedMessage, serverAddress = clientSocket.recvfrom(2048)\n",
    "           print(\"at client\"+ str(i))\n",
    "           print(modifiedMessage)\n",
    "      clientSocket.close()\n",
    "\n",
    "parent()\n",
    "'''"
   ]
  },
  {
   "cell_type": "code",
   "execution_count": 38,
   "metadata": {
    "colab": {
     "autoexec": {
      "startup": false,
      "wait_interval": 0
     },
     "base_uri": "https://localhost:8080/",
     "height": 272
    },
    "colab_type": "code",
    "executionInfo": {
     "elapsed": 2078,
     "status": "ok",
     "timestamp": 1524691977174,
     "user": {
      "displayName": "Zyad Shokry",
      "photoUrl": "//lh3.googleusercontent.com/-ZHjQe3B0AMU/AAAAAAAAAAI/AAAAAAAAAHY/iY3O8GlcjrA/s50-c-k-no/photo.jpg",
      "userId": "117974362878044525147"
     },
     "user_tz": -120
    },
    "id": "LCAPlR6ezZNX",
    "outputId": "f2162977-465f-42a9-9053-5778f5de13c7"
   },
   "outputs": [
    {
     "name": "stdout",
     "output_type": "stream",
     "text": [
      "The receiver is ready to receive\n",
      "received 0 at time 4.00625467300415 actual:  0\n",
      "R: SENT---> ACK SEQUENCE NUMBER:  0 SENT ACK at time 4.0084006786346436 actual: 0 \n",
      "\n",
      "received 1 at time 4.013647794723511 actual:  1\n",
      "R: SENT---> ACK SEQUENCE NUMBER:  1 SENT ACK at time 4.017472982406616 actual: 1 \n",
      "\n",
      "received 0 at time 4.022200345993042 actual:  2\n",
      "R: SENT---> ACK SEQUENCE NUMBER:  0 SENT ACK at time 4.0238118171691895 actual: 2 \n",
      "\n",
      "received 1 at time 4.03215765953064 actual:  3\n",
      "R: SENT---> ACK SEQUENCE NUMBER:  1 SENT ACK at time 4.033552646636963 actual: 3 \n",
      "\n",
      "\n",
      " sent 0 at time 4.006130933761597\n",
      "timer timer\n",
      "again\n",
      "S: ACK SEQUENCE NUMBER OK:  0 received ACK at time 4.009715795516968 actual: 0 \n",
      "\n",
      "\n",
      " sent 1 at time 4.010026454925537\n",
      "timer timer\n",
      "again\n",
      "S: ACK SEQUENCE NUMBER OK:  0 received ACK at time 4.015028476715088 actual: 1 \n",
      "\n",
      "\n",
      " sent 2 at time 4.015291213989258\n",
      "timer timer\n",
      "again\n",
      "S: ACK SEQUENCE NUMBER OK:  1 received ACK at time 4.018203020095825 actual: 1 \n",
      "\n",
      "\n",
      " sent 3 at time 4.018463134765625\n",
      "timer timer\n",
      "again\n",
      "timer timer\n",
      "again\n",
      "S: ACK SEQUENCE NUMBER OK:  1 received ACK at time 4.0224220752716064 actual: 2 \n",
      "\n",
      "\n",
      " sent 4 at time 4.022676467895508\n",
      "S: ACK SEQUENCE NUMBER OK:  0 received ACK at time 4.027238607406616 actual: 2 \n",
      "\n",
      "received 0 at time 4.036270618438721 actual:  4\n",
      "R: SENT---> ACK SEQUENCE NUMBER:  0 SENT ACK at time 4.037956237792969 actual: 4 \n",
      "\n"
     ]
    }
   ],
   "source": [
    "import os\n",
    "import time\n",
    "t0 = time.time()\n",
    "time.sleep(1)\n",
    "rang=5\n",
    "def recv_child():\n",
    "   #print('\\nA new recv_child ',  os.getpid())\n",
    "   receiverSocket = socket(AF_INET, SOCK_DGRAM)\n",
    "   receiverSocket.setsockopt(SOL_SOCKET, SO_REUSEADDR, 1)\n",
    "   receiverSocket.bind(('', receiverPort))\n",
    "   print(\"The receiver is ready to receive\")\n",
    "   ack_seq_num=0\n",
    "   expected_seq_num=0\n",
    "   while 1:\n",
    "    \n",
    "    #print(\"recieved \"+str(count))\n",
    "    \n",
    "    message, senderAddress = receiverSocket.recvfrom(2048)\n",
    "\n",
    "    t3=time.time()\n",
    "    modifiedMessage = pickle.loads(message)\n",
    "    if not isinstance(modifiedMessage,Packet):\n",
    "        print(\"we we \\n\")\n",
    "        continue\n",
    "\n",
    "    number=modifiedMessage.seq_num\n",
    "    if number != expected_seq_num:\n",
    "      receiverSocket.sendto(pickle.dumps(ACK(number,0,ack_seq_num)), senderAddress)\n",
    "      continue\n",
    "    else:\n",
    "      print(\"received \"+str(number)+\" at time \"+str(t3-t0),\"actual: \",ack_seq_num)\n",
    "\n",
    "      receiverSocket.sendto(pickle.dumps(ACK(expected_seq_num,0,ack_seq_num)), senderAddress)\n",
    "      t6=time.time()\n",
    "      print(\"R: SENT---> ACK SEQUENCE NUMBER: \",expected_seq_num,\"SENT ACK at time\",str(t6-t0),\"actual:\",ack_seq_num,\"\\n\")\n",
    "      #print(\"actual sequence number received: \",ack_seq_num)\n",
    "      ack_seq_num+=1\n",
    "      expected_seq_num=ack_seq_num%2\n",
    "      if(modifiedMessage.type_ == 0):\n",
    "        pass #print dictionary \n",
    "        \n",
    "    \n",
    "\n",
    "      \n",
    "    #os._exit(0)\n",
    "    \n",
    "\n",
    "def send_parent():\n",
    "   #while (True):\n",
    "      newpid = os.fork()\n",
    "      #if in recv_child process\n",
    "      if newpid == 0:\n",
    "         recv_child()\n",
    "      #send_parent process\n",
    "      else:\n",
    "         time.sleep(3)\n",
    "         pids = (os.getpid(), newpid)\n",
    "         packets=[]\n",
    "         for i in range(0,rang):\n",
    "            \n",
    "            if (i != rang-1):\n",
    "                packets.append(Packet(i%2,0,b'kareem'))\n",
    "            else:\n",
    "                packets.append(Packet(i%2,0,b'kareem',type_=0))\n",
    "                \n",
    "                           \n",
    "         #print(\"send_parent: %d, recv_child: %d\\n\" % pids)\n",
    "         senderSocket = socket(AF_INET, SOCK_DGRAM)\n",
    "         senderSocket.setsockopt(SOL_SOCKET, SO_REUSEADDR, 1)\n",
    "         senderSocket.bind(('', senderPort))\n",
    "         message = packets\n",
    "        \n",
    "         # pickle.dumps converts any object of any type to bytes type\n",
    "         \n",
    "         for i in range(0,rang):\n",
    "\n",
    "           senderSocket.sendto(pickle.dumps(message[i]),(receiverIP, receiverPort))\n",
    "           t1 = time.time()\n",
    "           print(\"\\n sent \"+str(i)+\" at time \"+str(t1-t0))\n",
    "           #print(\"sent\")\n",
    "\n",
    "           while (True):\n",
    "               #timeout = time.time() + 0.04\n",
    "               modifiedMessage=pot_ack=None\n",
    "               try:\n",
    "                   senderSocket.settimeout(0.001)\n",
    "                   modifiedMessage, receiverAddress = senderSocket.recvfrom(2048)\n",
    "               except:\n",
    "                print(\"timer timer\")\n",
    "               \n",
    "               senderSocket.settimeout(None)\n",
    "               t5 = time.time()\n",
    "                \n",
    "               if modifiedMessage is not None:\n",
    "                pot_ack=pickle.loads(modifiedMessage)\n",
    "               \n",
    "               if isinstance(pot_ack,ACK):\n",
    "                    print(\"S: ACK SEQUENCE NUMBER OK: \",pot_ack.seq_num,\"received ACK at time\",str(t5-t0),\"actual:\",pot_ack.real,\"\\n\")\n",
    "                    modifiedMessage=None\n",
    "                    break\n",
    "               else:\n",
    "                 print(\"again\")\n",
    "                 senderSocket.sendto(pickle.dumps(message[i]),(receiverIP, receiverPort))\n",
    "\n",
    "         senderSocket.close()\n",
    "\n",
    "send_parent()"
   ]
  },
  {
   "cell_type": "code",
   "execution_count": 0,
   "metadata": {
    "colab": {
     "autoexec": {
      "startup": false,
      "wait_interval": 0
     }
    },
    "colab_type": "code",
    "collapsed": true,
    "id": "ncK2ORJAL-PR"
   },
   "outputs": [],
   "source": [
    "!ps -fA | grep python"
   ]
  },
  {
   "cell_type": "code",
   "execution_count": 0,
   "metadata": {
    "colab": {
     "autoexec": {
      "startup": false,
      "wait_interval": 0
     }
    },
    "colab_type": "code",
    "collapsed": true,
    "id": "TRn8CaRicIND"
   },
   "outputs": [],
   "source": []
  },
  {
   "cell_type": "code",
   "execution_count": 0,
   "metadata": {
    "colab": {
     "autoexec": {
      "startup": false,
      "wait_interval": 0
     }
    },
    "colab_type": "code",
    "collapsed": true,
    "id": "4L3Rf5lEU1Qk"
   },
   "outputs": [],
   "source": [
    "packets=[]\n",
    "f=open(\"test_file.txt\",\"rb\")\n",
    "data = f.read(2048)\n",
    "seqNO=0\n",
    "while (data):\n",
    "        packets.append(Packet(seqNO,0,data))\n",
    "        data=f.read(2048)\n",
    "        seqNO+=1\n",
    "print(len(packets))"
   ]
  },
  {
   "cell_type": "code",
   "execution_count": 0,
   "metadata": {
    "colab": {
     "autoexec": {
      "startup": false,
      "wait_interval": 0
     }
    },
    "colab_type": "code",
    "collapsed": true,
    "id": "l_3bpHyXeBvP"
   },
   "outputs": [],
   "source": [
    "'''collectedFile=b''\n",
    "for i in range( len(packets) ):\n",
    "  collectedFile+=packets[i].data\n",
    "'''"
   ]
  },
  {
   "cell_type": "code",
   "execution_count": 0,
   "metadata": {
    "colab": {
     "autoexec": {
      "startup": false,
      "wait_interval": 0
     }
    },
    "colab_type": "code",
    "collapsed": true,
    "id": "SXDuYMxBfpBx"
   },
   "outputs": [],
   "source": [
    "coFile=open(\"co_test_file.txt\",\"wb\")\n",
    "for i in range(len(packets)):\n",
    "  coFile.write(packets[i].data)\n",
    "coFile.close()\n",
    "file=open(\"co_test_file.txt\",\"rb\")\n",
    "new=file.read(2048)\n",
    "print(new)\n"
   ]
  },
  {
   "cell_type": "markdown",
   "metadata": {
    "colab_type": "text",
    "id": "FvjAvd2WgubQ"
   },
   "source": []
  },
  {
   "cell_type": "code",
   "execution_count": 0,
   "metadata": {
    "colab": {
     "autoexec": {
      "startup": false,
      "wait_interval": 0
     }
    },
    "colab_type": "code",
    "collapsed": true,
    "id": "zXwJscgXhfF4"
   },
   "outputs": [],
   "source": [
    "from google.colab import files\n",
    "!ls\n",
    "files.download('co_test_file.txt')\n"
   ]
  },
  {
   "cell_type": "code",
   "execution_count": 0,
   "metadata": {
    "colab": {
     "autoexec": {
      "startup": false,
      "wait_interval": 0
     }
    },
    "colab_type": "code",
    "collapsed": true,
    "id": "ySKA-d1drU9c"
   },
   "outputs": [],
   "source": [
    "'''import socket\n",
    "from socket import *\n",
    "serverIP = '172.17.0.2'\n",
    "serverPort = 12000\n",
    "clientSocket = socket(AF_INET, SOCK_DGRAM)\n",
    "message = input('Input lowercase sentence:')\n",
    "clientSocket.sendto(message.encode(),(serverIP, serverPort))\n",
    "modifiedMessage, serverAddress = clientSocket.recvfrom(2048)\n",
    "print(modifiedMessage)\n",
    "clientSocket.close()\n",
    "'''\n"
   ]
  },
  {
   "cell_type": "code",
   "execution_count": 0,
   "metadata": {
    "colab": {
     "autoexec": {
      "startup": false,
      "wait_interval": 0
     }
    },
    "colab_type": "code",
    "collapsed": true,
    "id": "fPSshavUED9Y"
   },
   "outputs": [],
   "source": [
    "'''import socket\n",
    "from socket import *\n",
    "serverPort = 12000\n",
    "serverSocket = socket(AF_INET, SOCK_DGRAM)\n",
    "serverSocket.bind(('', serverPort))\n",
    "print(\"The server is ready to receive\")\n",
    "while 1:\n",
    "  message, clientAddress = serverSocket.recvfrom(2048)\n",
    "  modifiedMessage = message.upper()\n",
    "  serverSocket.sendto(modifiedMessage, clientAddress)\n",
    "'''"
   ]
  }
 ],
 "metadata": {
  "colab": {
   "default_view": {},
   "name": "Untitled3.ipynb",
   "provenance": [],
   "version": "0.3.2",
   "views": {}
  },
  "kernelspec": {
   "display_name": "Python 3",
   "language": "python",
   "name": "python3"
  },
  "language_info": {
   "codemirror_mode": {
    "name": "ipython",
    "version": 3
   },
   "file_extension": ".py",
   "mimetype": "text/x-python",
   "name": "python",
   "nbconvert_exporter": "python",
   "pygments_lexer": "ipython3",
   "version": "3.6.2"
  }
 },
 "nbformat": 4,
 "nbformat_minor": 1
}
