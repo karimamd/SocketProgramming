{
  "nbformat": 4,
  "nbformat_minor": 0,
  "metadata": {
    "colab": {
      "name": "AyBatee5.ipynb",
      "version": "0.3.2",
      "views": {},
      "default_view": {},
      "provenance": []
    },
    "kernelspec": {
      "display_name": "Python 3",
      "language": "python",
      "name": "python3"
    }
  },
  "cells": [
    {
      "metadata": {
        "id": "2PH2pq0LI5YT",
        "colab_type": "code",
        "colab": {
          "autoexec": {
            "startup": false,
            "wait_interval": 0
          }
        }
      },
      "cell_type": "code",
      "source": [
        "#!hostname -I\n"
      ],
      "execution_count": 0,
      "outputs": []
    },
    {
      "metadata": {
        "id": "j3rE1hCOHS93",
        "colab_type": "code",
        "colab": {
          "autoexec": {
            "startup": false,
            "wait_interval": 0
          }
        }
      },
      "cell_type": "code",
      "source": [
        "# !wget https://www.dropbox.com/s/tce4mdqz8n5xqvs/text_file.txt   # test_file.txt file of 4.00 MB that will be sent\n",
        "# !wget https://www.dropbox.com/s/g8oq6mm2j1zhkv2/test_file.txt\n",
        "# !ls\n"
      ],
      "execution_count": 0,
      "outputs": []
    },
    {
      "metadata": {
        "id": "pRLP2LCbrHm7",
        "colab_type": "code",
        "colab": {
          "autoexec": {
            "startup": false,
            "wait_interval": 0
          },
          "base_uri": "https://localhost:8080/",
          "height": 34
        },
        "outputId": "d936dd35-3b83-4836-92db-88c29ae03490",
        "executionInfo": {
          "status": "ok",
          "timestamp": 1524925158830,
          "user_tz": -120,
          "elapsed": 1746,
          "user": {
            "displayName": "Kareem Abdel Salam",
            "photoUrl": "//lh5.googleusercontent.com/-FFkZs03hTYw/AAAAAAAAAAI/AAAAAAAAJYE/suktak0dYDI/s50-c-k-no/photo.jpg",
            "userId": "111052780768832987513"
          }
        }
      },
      "cell_type": "code",
      "source": [
        "#!rm -r text_file.txt.1\n",
        "!ls"
      ],
      "execution_count": 1,
      "outputs": [
        {
          "output_type": "stream",
          "text": [
            "datalab\r\n"
          ],
          "name": "stdout"
        }
      ]
    },
    {
      "metadata": {
        "id": "4xUpYxSXMs8g",
        "colab_type": "code",
        "colab": {
          "autoexec": {
            "startup": false,
            "wait_interval": 0
          }
        }
      },
      "cell_type": "code",
      "source": [
        "import socket, pickle\n",
        "receiverIP=socket.gethostbyname(socket.gethostname())\n",
        "from socket import *\n",
        "senderPort = 12000\n",
        "receiverPort = 5200 "
      ],
      "execution_count": 0,
      "outputs": []
    },
    {
      "metadata": {
        "id": "7pyPwRRiS-5H",
        "colab_type": "code",
        "colab": {
          "autoexec": {
            "startup": false,
            "wait_interval": 0
          }
        }
      },
      "cell_type": "code",
      "source": [
        "class Packet:\n",
        "  def __init__(\n",
        "  self,\n",
        "  seq_num=None,\n",
        "  checksum=None,\n",
        "  data=None,\n",
        "  type_ =1\n",
        "  ):\n",
        "    self.seq_num=seq_num\n",
        "    self.checksum=checksum\n",
        "    self.data=data\n",
        "    self.type_=type_\n",
        "\n",
        "class ACK:\n",
        "  def __init__(\n",
        "  self,\n",
        "  seq_num=None,\n",
        "  checksum=None,\n",
        "  real=None\n",
        "  ):\n",
        "    self.seq_num=seq_num\n",
        "    self.checksum=checksum\n",
        "    self.real=real\n",
        "  "
      ],
      "execution_count": 0,
      "outputs": []
    },
    {
      "metadata": {
        "id": "vxgfA5DLKVVs",
        "colab_type": "code",
        "colab": {
          "autoexec": {
            "startup": false,
            "wait_interval": 0
          }
        }
      },
      "cell_type": "code",
      "source": [
        "import random\n",
        "\n",
        "def decision(probability):\n",
        "    return random.random() < probability"
      ],
      "execution_count": 0,
      "outputs": []
    },
    {
      "metadata": {
        "id": "4sRJ4jhMjtl4",
        "colab_type": "text"
      },
      "cell_type": "markdown",
      "source": [
        "### STOP AND WAIT"
      ]
    },
    {
      "metadata": {
        "id": "LCAPlR6ezZNX",
        "colab_type": "code",
        "colab": {
          "autoexec": {
            "startup": false,
            "wait_interval": 0
          },
          "base_uri": "https://localhost:8080/",
          "height": 885
        },
        "outputId": "09fb364d-91f7-4f4c-fcf8-a4aed96b5ca1",
        "executionInfo": {
          "status": "ok",
          "timestamp": 1524925250666,
          "user_tz": -120,
          "elapsed": 5280,
          "user": {
            "displayName": "Kareem Abdel Salam",
            "photoUrl": "//lh5.googleusercontent.com/-FFkZs03hTYw/AAAAAAAAAAI/AAAAAAAAJYE/suktak0dYDI/s50-c-k-no/photo.jpg",
            "userId": "111052780768832987513"
          }
        }
      },
      "cell_type": "code",
      "source": [
        "import os\n",
        "import time\n",
        "t0 = time.time()\n",
        "time.sleep(1)\n",
        "rang = 8\n",
        "\n",
        "def recv_child():\n",
        "    stats_={}\n",
        "    receiverSocket = socket(AF_INET, SOCK_DGRAM)\n",
        "    receiverSocket.setsockopt(SOL_SOCKET, SO_REUSEADDR, 1)\n",
        "    receiverSocket.bind(('', receiverPort))\n",
        "    print(\"--The receiver is ready to receive--\\n\")\n",
        "    \n",
        "    actual_seq_num=0\n",
        "    expected_seq_num=0\n",
        "    \n",
        "    while (True):\n",
        "        (message, senderAddress) = receiverSocket.recvfrom(2048)\n",
        "        message=pickle.loads(message)\n",
        "        t6=time.time()\n",
        "        if expected_seq_num== message.seq_num:\n",
        "            if decision(0.5):\n",
        "                receiverSocket.sendto(pickle.dumps(ACK(expected_seq_num, 0,actual_seq_num)), senderAddress)\n",
        "                t6 = time.time()\n",
        "                stats_['{0:.6f}'.format(t6 - t0)] = 'receiver sent ack for packet '+str(expected_seq_num)+' actual: '+ str(actual_seq_num)\n",
        "                actual_seq_num += 1\n",
        "                expected_seq_num = actual_seq_num % 2\n",
        "                                      \n",
        "                if message.type_ == 0:\n",
        "                    time.sleep(0.1)\n",
        "                    print ('\\n')\n",
        "                    for (key, msg) in stats_.items():\n",
        "                        print (key, msg)\n",
        "            else:\n",
        "                stats_['{0:.6f}'.format(t6 - t0)] = 'receiver dropped ack for packet '+str(expected_seq_num)+' actual: '+str(actual_seq_num)\n",
        "                actual_seq_num += 1\n",
        "                expected_seq_num = actual_seq_num % 2\n",
        "        else:\n",
        "            #duplicate\n",
        "            receiverSocket.sendto(pickle.dumps(ACK(message.seq_num, 0, actual_seq_num-1)), (senderAddress))\n",
        "             \n",
        "            stats_['{0:.6f}'.format(t6 - t0)] = '--duplicate-- already received ' + str(message.seq_num) + ' actual: ' + str(actual_seq_num-1)\n",
        "                                  \n",
        "\n",
        "            \n",
        "            \n",
        "\n",
        "    # os._exit(0)\n",
        "    \n",
        "\n",
        "def send_parent():\n",
        "      newpid = os.fork()\n",
        "      if newpid == 0:\n",
        "         recv_child()\n",
        "      else:\n",
        "         stats_={}\n",
        "         time.sleep(3)\n",
        "         pids = (os.getpid(), newpid)\n",
        "         packets=[]\n",
        "         for i in range(0,rang):\n",
        "            \n",
        "            if (i != rang-1):\n",
        "                packets.append(Packet(i%2,0,b'kareem'))\n",
        "            else:\n",
        "                packets.append(Packet(i%2,0,b'kareem',type_=0))\n",
        "                \n",
        "                           \n",
        "         #print(\"send_parent: %d, recv_child: %d\\n\" % pids)\n",
        "         senderSocket = socket(AF_INET, SOCK_DGRAM)\n",
        "         senderSocket.setsockopt(SOL_SOCKET, SO_REUSEADDR, 1)\n",
        "         senderSocket.bind(('', senderPort))\n",
        "         message = packets\n",
        "\n",
        "         \n",
        "         for i in range(0,rang):\n",
        "           if decision(0.5):\n",
        "            senderSocket.sendto(pickle.dumps(message[i]),(receiverIP, receiverPort))\n",
        "            t1 = time.time()\n",
        "            stats_[\"{0:.6f}\".format(t1-t0)]=\"sent packet \"+str(i%2)+\" actual: \"+str(i)\n",
        "           else:\n",
        "            t1 = time.time()\n",
        "            stats_[\"{0:.6f}\".format(t1-t0)]=\"sent packet \"+str(i%2)+\" actual: \"+str(i)\n",
        "\n",
        "           while (True):\n",
        "               \n",
        "               modifiedMessage=pot_ack=None\n",
        "               try:\n",
        "                   senderSocket.settimeout(0.03)\n",
        "                   modifiedMessage, receiverAddress = senderSocket.recvfrom(2048)\n",
        "                   t5 = time.time()\n",
        "                   pot_ack=pickle.loads(modifiedMessage)\n",
        "                   if isinstance(pot_ack,ACK):\n",
        "                    if pot_ack.seq_num == i%2:\n",
        "                     stats_[\"{0:.6f}\".format(t5-t0)]= \"sender received ack for packet \"+str(pot_ack.seq_num)+\" actual: \"+str(pot_ack.real)\n",
        "                     modifiedMessage=None\n",
        "                    \n",
        "                     if(i==(rang-1)):\n",
        "                       for key, msg in stats_.items():\n",
        "                         print(key,msg)\n",
        "                      \n",
        "                     break\n",
        "               except:\n",
        "                   senderSocket.settimeout(None)\n",
        "                   t8 = time.time()\n",
        "                   stats_[\"{0:.6f}\".format(t8-t0)]=\"--timeout-- no ack received for packet \"+str(i%2)+\" actual: \"+str(i)\n",
        "                  \n",
        "                   if decision(0.5):\n",
        "                    senderSocket.sendto(pickle.dumps(message[i]),(receiverIP, receiverPort))\n",
        "                    t7 = time.time()\n",
        "                    stats_[\"{0:.6f}\".format(t7-t0)]=\"--again-- sent packet \"+str(i%2)+\" actual: \"+str(i)\n",
        "                   else:\n",
        "                    t7 = time.time()\n",
        "                    stats_[\"{0:.6f}\".format(t7-t0)]=\"--again-- dropped packet \"+str(i%2)+\" actual: \"+str(i)\n",
        "                    \n",
        "         senderSocket.close()\n",
        "\n",
        "send_parent()"
      ],
      "execution_count": 8,
      "outputs": [
        {
          "output_type": "stream",
          "text": [
            "--The receiver is ready to receive--\n",
            "\n",
            "4.008556 sent packet 0 actual: 0\n",
            "4.009062 sender received ack for packet 0 actual: 0\n",
            "4.009403 sent packet 1 actual: 1\n",
            "4.009657 sender received ack for packet 1 actual: 1\n",
            "4.009681 sent packet 0 actual: 2\n",
            "4.039889 --timeout-- no ack received for packet 0 actual: 2\n",
            "4.039940 --again-- dropped packet 0 actual: 2\n",
            "4.070145 --timeout-- no ack received for packet 0 actual: 2\n",
            "4.070377 --again-- sent packet 0 actual: 2\n",
            "4.100574 --timeout-- no ack received for packet 0 actual: 2\n",
            "4.100752 --again-- sent packet 0 actual: 2\n",
            "4.100936 sender received ack for packet 0 actual: 2\n",
            "4.100988 sent packet 1 actual: 3\n",
            "4.131175 --timeout-- no ack received for packet 1 actual: 3\n",
            "4.131377 --again-- sent packet 1 actual: 3\n",
            "4.131572 sender received ack for packet 1 actual: 3\n",
            "4.131624 sent packet 0 actual: 4\n",
            "4.131686 sender received ack for packet 0 actual: 4\n",
            "4.131717 sent packet 1 actual: 5\n",
            "4.161919 --timeout-- no ack received for packet 1 actual: 5\n",
            "4.161965 --again-- dropped packet 1 actual: 5\n",
            "4.192178 --timeout-- no ack received for packet 1 actual: 5\n",
            "4.192581 --again-- sent packet 1 actual: 5\n",
            "4.192605 sender received ack for packet 1 actual: 5\n",
            "4.192643 sent packet 0 actual: 6\n",
            "4.222824 --timeout-- no ack received for packet 0 actual: 6\n",
            "4.222870 --again-- dropped packet 0 actual: 6\n",
            "4.253277 --timeout-- no ack received for packet 0 actual: 6\n",
            "4.253322 --again-- dropped packet 0 actual: 6\n",
            "4.283527 --timeout-- no ack received for packet 0 actual: 6\n",
            "4.283907 --again-- sent packet 0 actual: 6\n",
            "4.283936 sender received ack for packet 0 actual: 6\n",
            "4.283965 sent packet 1 actual: 7\n",
            "4.314120 --timeout-- no ack received for packet 1 actual: 7\n",
            "4.314543 --again-- sent packet 1 actual: 7\n",
            "4.314570 sender received ack for packet 1 actual: 7\n",
            "\n",
            "\n",
            "4.008935 receiver sent ack for packet 0 actual: 0\n",
            "4.009625 receiver sent ack for packet 1 actual: 1\n",
            "4.070517 receiver dropped ack for packet 0 actual: 2\n",
            "4.100859 --duplicate-- already received 0 actual: 2\n",
            "4.101011 receiver dropped ack for packet 1 actual: 3\n",
            "4.131495 --duplicate-- already received 1 actual: 3\n",
            "4.131669 receiver sent ack for packet 0 actual: 4\n",
            "4.192554 receiver sent ack for packet 1 actual: 5\n",
            "4.283881 receiver sent ack for packet 0 actual: 6\n",
            "4.314507 receiver sent ack for packet 1 actual: 7\n"
          ],
          "name": "stdout"
        }
      ]
    },
    {
      "metadata": {
        "id": "3mpOI92znu18",
        "colab_type": "code",
        "colab": {
          "autoexec": {
            "startup": false,
            "wait_interval": 0
          },
          "base_uri": "https://localhost:8080/",
          "height": 54
        },
        "outputId": "4b57ca45-2360-4ba4-ae0e-20d74981e2e7",
        "executionInfo": {
          "status": "ok",
          "timestamp": 1524925167530,
          "user_tz": -120,
          "elapsed": 744,
          "user": {
            "displayName": "Kareem Abdel Salam",
            "photoUrl": "//lh5.googleusercontent.com/-FFkZs03hTYw/AAAAAAAAAAI/AAAAAAAAJYE/suktak0dYDI/s50-c-k-no/photo.jpg",
            "userId": "111052780768832987513"
          }
        }
      },
      "cell_type": "code",
      "source": [
        "'''\n",
        "def recv_child():\n",
        "    stats_ = {}\n",
        "    receiverSocket = socket(AF_INET, SOCK_DGRAM)\n",
        "    receiverSocket.setsockopt(SOL_SOCKET, SO_REUSEADDR, 1)\n",
        "    receiverSocket.bind(('', receiverPort))\n",
        "    print(\"--The receiver is ready to receive--\\n\")\n",
        "    actual_seq_num = 0\n",
        "    expected_seq_num = 0\n",
        "    while 1:\n",
        "        \n",
        "        (message, senderAddress) = receiverSocket.recvfrom(2048)\n",
        "        t3 = time.time()\n",
        "        modifiedMessage = pickle.loads(message)\n",
        "        if not isinstance(modifiedMessage, Packet):\n",
        "            continue\n",
        "\n",
        "        seq_no = modifiedMessage.seq_num\n",
        "        if seq_no != expected_seq_num:\n",
        "            receiverSocket.sendto(pickle.dumps(ACK(seq_no, 0,\n",
        "                                  actual_seq_num)), senderAddress)\n",
        "        \n",
        "            \n",
        "            stats_['{0:.6f}'.format(t3 - t0)] = \\\n",
        "                '--duplicate-- already received ' + str(seq_no) \\\n",
        "                + ' actual: ' + str(actual_seq_num)\n",
        "            continue\n",
        "            \n",
        "        else:\n",
        "            stats_['{0:.6f}'.format(t3 - t0)] = 'received packet ' \\\n",
        "                + str(seq_no) + ' actual: ' + str(actual_seq_num)\n",
        "            if decision(0.5):\n",
        "                receiverSocket.sendto(pickle.dumps(ACK(expected_seq_num, 0,actual_seq_num)), senderAddress)\n",
        "                t6 = time.time()\n",
        "                #actual_seq_num += 1\n",
        "                #expected_seq_num = actual_seq_num % 2\n",
        "                stats_['{0:.6f}'.format(t6 - t0)] = 'receiver sent ack for packet '+str(expected_seq_num)+' actual: '+ str(actual_seq_num)\n",
        "            \n",
        "            else:\n",
        "                t6 = time.time()\n",
        "                stats_['{0:.6f}'.format(t6 - t0)] = 'receiver dropped ack for packet '+str(expected_seq_num)+' actual: '+str(actual_seq_num)\n",
        "                \n",
        "            actual_seq_num += 1\n",
        "            expected_seq_num = actual_seq_num % 2\n",
        "\n",
        "            if modifiedMessage.type_ == 0:\n",
        "                time.sleep(0.1)\n",
        "                print ('\\n')\n",
        "                for (key, msg) in stats_.items():\n",
        "                    print (key, msg)\n",
        "\n",
        "'''"
      ],
      "execution_count": 6,
      "outputs": [
        {
          "output_type": "execute_result",
          "data": {
            "text/plain": [
              "'\\ndef recv_child():\\n    stats_ = {}\\n    receiverSocket = socket(AF_INET, SOCK_DGRAM)\\n    receiverSocket.setsockopt(SOL_SOCKET, SO_REUSEADDR, 1)\\n    receiverSocket.bind((\\'\\', receiverPort))\\n    print(\"--The receiver is ready to receive--\\n\")\\n    actual_seq_num = 0\\n    expected_seq_num = 0\\n    while 1:\\n        \\n        (message, senderAddress) = receiverSocket.recvfrom(2048)\\n        t3 = time.time()\\n        modifiedMessage = pickle.loads(message)\\n        if not isinstance(modifiedMessage, Packet):\\n            continue\\n\\n        seq_no = modifiedMessage.seq_num\\n        if seq_no != expected_seq_num:\\n            receiverSocket.sendto(pickle.dumps(ACK(seq_no, 0,\\n                                  actual_seq_num)), senderAddress)\\n        \\n            \\n            stats_[\\'{0:.6f}\\'.format(t3 - t0)] =                 \\'--duplicate-- already received \\' + str(seq_no)                 + \\' actual: \\' + str(actual_seq_num)\\n            continue\\n            \\n        else:\\n            stats_[\\'{0:.6f}\\'.format(t3 - t0)] = \\'received packet \\'                 + str(seq_no) + \\' actual: \\' + str(actual_seq_num)\\n            if decision(0.5):\\n                receiverSocket.sendto(pickle.dumps(ACK(expected_seq_num, 0,actual_seq_num)), senderAddress)\\n                t6 = time.time()\\n                #actual_seq_num += 1\\n                #expected_seq_num = actual_seq_num % 2\\n                stats_[\\'{0:.6f}\\'.format(t6 - t0)] = \\'receiver sent ack for packet \\'+str(expected_seq_num)+\\' actual: \\'+ str(actual_seq_num)\\n            \\n            else:\\n                t6 = time.time()\\n                stats_[\\'{0:.6f}\\'.format(t6 - t0)] = \\'receiver dropped ack for packet \\'+str(expected_seq_num)+\\' actual: \\'+str(actual_seq_num)\\n                \\n            actual_seq_num += 1\\n            expected_seq_num = actual_seq_num % 2\\n\\n            if modifiedMessage.type_ == 0:\\n                time.sleep(0.1)\\n                print (\\'\\n\\')\\n                for (key, msg) in stats_.items():\\n                    print (key, msg)\\n\\n'"
            ]
          },
          "metadata": {
            "tags": []
          },
          "execution_count": 6
        }
      ]
    },
    {
      "metadata": {
        "id": "xwhQHkThnu2Y",
        "colab_type": "code",
        "colab": {
          "autoexec": {
            "startup": false,
            "wait_interval": 0
          },
          "base_uri": "https://localhost:8080/",
          "height": 131
        },
        "outputId": "1e483591-df08-4a6c-d8c2-ca0107b1e28c",
        "executionInfo": {
          "status": "error",
          "timestamp": 1524925168356,
          "user_tz": -120,
          "elapsed": 666,
          "user": {
            "displayName": "Kareem Abdel Salam",
            "photoUrl": "//lh5.googleusercontent.com/-FFkZs03hTYw/AAAAAAAAAAI/AAAAAAAAJYE/suktak0dYDI/s50-c-k-no/photo.jpg",
            "userId": "111052780768832987513"
          }
        }
      },
      "cell_type": "code",
      "source": [
        "def recv_child():\n",
        "    stats_={}\n",
        "    receiverSocket = socket(AF_INET, SOCK_DGRAM)\n",
        "    receiverSocket.setsockopt(SOL_SOCKET, SO_REUSEADDR, 1)\n",
        "    receiverSocket.bind(('', receiverPort))\n",
        "    print(\"--The receiver is ready to receive--\\n\")\n",
        "    \n",
        "    actual_seq_num=0\n",
        "    expected_seq_num=0\n",
        "    \n",
        "    while (True):\n",
        "        (message, senderAddress) = receiverSocket.recvfrom(2048)\n",
        "        message=pickle.loads(message)\n",
        "        t6=time.time()\n",
        "        if expected_seq_num== message.seq_num:\n",
        "            if decision(0.5):\n",
        "                receiverSocket.sendto(pickle.dumps(ACK(expected_seq_num,checksum=0,actual_seq_num), senderAddress)\n",
        "                t6 = time.time()\n",
        "                stats_['{0:.6f}'.format(t6 - t0)] = 'receiver sent ack for packet '+str(expected_seq_num)+' actual: '+ str(actual_seq_num)\n",
        "                actual_seq_num += 1\n",
        "                expected_seq_num = actual_seq_num % 2\n",
        "                                      \n",
        "                if message.type_ == 0:\n",
        "                time.sleep(0.1)\n",
        "                print ('\\n')\n",
        "                for (key, msg) in stats_.items():\n",
        "                    print (key, msg)\n",
        "            else:\n",
        "                stats_['{0:.6f}'.format(t6 - t0)] = 'receiver dropped ack for packet '+str(expected_seq_num)+' actual: '+str(actual_seq_num)\n",
        "                actual_seq_num += 1\n",
        "                expected_seq_num = actual_seq_num % 2\n",
        "        else:\n",
        "            #duplicate\n",
        "            receiverSocket.sendto(pickle.dumps(ACK(message.seq_num, 0, actual_seq_num-1)), senderAddress)\n",
        "             \n",
        "            stats_['{0:.6f}'.format(t6 - t0)] = '--duplicate-- already received ' + str(message.seq_num) + ' actual: ' + str(actual_seq_num-1)\n",
        "                                  \n",
        "\n",
        "            \n",
        "            "
      ],
      "execution_count": 7,
      "outputs": [
        {
          "output_type": "error",
          "ename": "SyntaxError",
          "evalue": "ignored",
          "traceback": [
            "\u001b[0;36m  File \u001b[0;32m\"<ipython-input-7-c7a54515e579>\"\u001b[0;36m, line \u001b[0;32m18\u001b[0m\n\u001b[0;31m    t6 = time.time()\u001b[0m\n\u001b[0m     ^\u001b[0m\n\u001b[0;31mSyntaxError\u001b[0m\u001b[0;31m:\u001b[0m invalid syntax\n"
          ]
        }
      ]
    },
    {
      "metadata": {
        "id": "ncK2ORJAL-PR",
        "colab_type": "code",
        "colab": {
          "autoexec": {
            "startup": false,
            "wait_interval": 0
          }
        }
      },
      "cell_type": "code",
      "source": [
        "!ps -fA | grep python"
      ],
      "execution_count": 0,
      "outputs": []
    },
    {
      "metadata": {
        "id": "4L3Rf5lEU1Qk",
        "colab_type": "code",
        "colab": {
          "autoexec": {
            "startup": false,
            "wait_interval": 0
          }
        }
      },
      "cell_type": "code",
      "source": [
        "packets=[]\n",
        "f=open(\"test_file.txt\",\"rb\")\n",
        "data = f.read(2048)\n",
        "seqNO=0\n",
        "while (data):\n",
        "        packets.append(Packet(seqNO,0,data))\n",
        "        data=f.read(2048)\n",
        "        seqNO+=1\n",
        "print(len(packets))"
      ],
      "execution_count": 0,
      "outputs": []
    },
    {
      "metadata": {
        "id": "l_3bpHyXeBvP",
        "colab_type": "code",
        "colab": {
          "autoexec": {
            "startup": false,
            "wait_interval": 0
          }
        }
      },
      "cell_type": "code",
      "source": [
        "'''collectedFile=b''\n",
        "for i in range( len(packets) ):\n",
        "  collectedFile+=packets[i].data\n",
        "'''"
      ],
      "execution_count": 0,
      "outputs": []
    },
    {
      "metadata": {
        "id": "SXDuYMxBfpBx",
        "colab_type": "code",
        "colab": {
          "autoexec": {
            "startup": false,
            "wait_interval": 0
          }
        }
      },
      "cell_type": "code",
      "source": [
        "coFile=open(\"co_test_file.txt\",\"wb\")\n",
        "for i in range(len(packets)):\n",
        "  coFile.write(packets[i].data)\n",
        "coFile.close()\n",
        "file=open(\"co_test_file.txt\",\"rb\")\n",
        "new=file.read(2048)\n",
        "print(new)\n"
      ],
      "execution_count": 0,
      "outputs": []
    },
    {
      "metadata": {
        "id": "zXwJscgXhfF4",
        "colab_type": "code",
        "colab": {
          "autoexec": {
            "startup": false,
            "wait_interval": 0
          }
        }
      },
      "cell_type": "code",
      "source": [
        "from google.colab import files\n",
        "!ls\n",
        "files.download('co_test_file.txt')\n"
      ],
      "execution_count": 0,
      "outputs": []
    },
    {
      "metadata": {
        "id": "ySKA-d1drU9c",
        "colab_type": "code",
        "colab": {
          "autoexec": {
            "startup": false,
            "wait_interval": 0
          }
        }
      },
      "cell_type": "code",
      "source": [
        "'''import socket\n",
        "from socket import *\n",
        "serverIP = '172.17.0.2'\n",
        "serverPort = 12000\n",
        "clientSocket = socket(AF_INET, SOCK_DGRAM)\n",
        "message = input('Input lowercase sentence:')\n",
        "clientSocket.sendto(message.encode(),(serverIP, serverPort))\n",
        "modifiedMessage, serverAddress = clientSocket.recvfrom(2048)\n",
        "print(modifiedMessage)\n",
        "clientSocket.close()\n",
        "'''\n"
      ],
      "execution_count": 0,
      "outputs": []
    },
    {
      "metadata": {
        "id": "fPSshavUED9Y",
        "colab_type": "code",
        "colab": {
          "autoexec": {
            "startup": false,
            "wait_interval": 0
          }
        }
      },
      "cell_type": "code",
      "source": [
        "'''import socket\n",
        "from socket import *\n",
        "serverPort = 12000\n",
        "serverSocket = socket(AF_INET, SOCK_DGRAM)\n",
        "serverSocket.bind(('', serverPort))\n",
        "print(\"The server is ready to receive\")\n",
        "while 1:\n",
        "  message, clientAddress = serverSocket.recvfrom(2048)\n",
        "  modifiedMessage = message.upper()\n",
        "  serverSocket.sendto(modifiedMessage, clientAddress)\n",
        "'''"
      ],
      "execution_count": 0,
      "outputs": []
    }
  ]
}