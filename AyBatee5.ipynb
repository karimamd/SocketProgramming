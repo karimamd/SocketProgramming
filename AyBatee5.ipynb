{
 "cells": [
  {
   "cell_type": "code",
   "execution_count": 0,
   "metadata": {
    "colab": {
     "autoexec": {
      "startup": false,
      "wait_interval": 0
     }
    },
    "colab_type": "code",
    "collapsed": true,
    "id": "2PH2pq0LI5YT"
   },
   "outputs": [],
   "source": [
    "#!hostname -I\n"
   ]
  },
  {
   "cell_type": "code",
   "execution_count": 0,
   "metadata": {
    "colab": {
     "autoexec": {
      "startup": false,
      "wait_interval": 0
     }
    },
    "colab_type": "code",
    "collapsed": true,
    "id": "j3rE1hCOHS93"
   },
   "outputs": [],
   "source": [
    "# !wget https://www.dropbox.com/s/tce4mdqz8n5xqvs/text_file.txt   # test_file.txt file of 4.00 MB that will be sent\n",
    "# !wget https://www.dropbox.com/s/g8oq6mm2j1zhkv2/test_file.txt\n",
    "# !ls\n"
   ]
  },
  {
   "cell_type": "code",
   "execution_count": 0,
   "metadata": {
    "colab": {
     "autoexec": {
      "startup": false,
      "wait_interval": 0
     },
     "base_uri": "https://localhost:8080/",
     "height": 34
    },
    "colab_type": "code",
    "executionInfo": {
     "elapsed": 2552,
     "status": "ok",
     "timestamp": 1524840171711,
     "user": {
      "displayName": "Zyad Shokry",
      "photoUrl": "//lh3.googleusercontent.com/-ZHjQe3B0AMU/AAAAAAAAAAI/AAAAAAAAAHY/iY3O8GlcjrA/s50-c-k-no/photo.jpg",
      "userId": "117974362878044525147"
     },
     "user_tz": -120
    },
    "id": "pRLP2LCbrHm7",
    "outputId": "f2e94fe3-bf5f-439b-d8c7-40cb17349790"
   },
   "outputs": [
    {
     "name": "stdout",
     "output_type": "stream",
     "text": [
      "datalab\r\n"
     ]
    }
   ],
   "source": [
    "#!rm -r text_file.txt.1\n",
    "!ls"
   ]
  },
  {
   "cell_type": "code",
   "execution_count": 8,
   "metadata": {
    "colab": {
     "autoexec": {
      "startup": false,
      "wait_interval": 0
     }
    },
    "colab_type": "code",
    "collapsed": true,
    "id": "4xUpYxSXMs8g"
   },
   "outputs": [],
   "source": [
    "import socket, pickle\n",
    "receiverIP=gethostbyname(socket.gethostname())\n",
    "from socket import *\n",
    "senderPort = 12000\n",
    "receiverPort = 5200 "
   ]
  },
  {
   "cell_type": "code",
   "execution_count": 9,
   "metadata": {
    "colab": {
     "autoexec": {
      "startup": false,
      "wait_interval": 0
     }
    },
    "colab_type": "code",
    "collapsed": true,
    "id": "7pyPwRRiS-5H"
   },
   "outputs": [],
   "source": [
    "class Packet:\n",
    "  def __init__(\n",
    "  self,\n",
    "  seq_num=None,\n",
    "  checksum=None,\n",
    "  data=None,\n",
    "  type_ =1\n",
    "  ):\n",
    "    self.seq_num=seq_num\n",
    "    self.checksum=checksum\n",
    "    self.data=data\n",
    "    self.type_=type_\n",
    "\n",
    "class ACK:\n",
    "  def __init__(\n",
    "  self,\n",
    "  seq_num=None,\n",
    "  checksum=None,\n",
    "  real=None\n",
    "  ):\n",
    "    self.seq_num=seq_num\n",
    "    self.checksum=checksum\n",
    "    self.real=real\n",
    "  "
   ]
  },
  {
   "cell_type": "code",
   "execution_count": 10,
   "metadata": {
    "colab": {
     "autoexec": {
      "startup": false,
      "wait_interval": 0
     }
    },
    "colab_type": "code",
    "collapsed": true,
    "id": "vxgfA5DLKVVs"
   },
   "outputs": [],
   "source": [
    "import random\n",
    "\n",
    "def decision(probability):\n",
    "    return random.random() < probability"
   ]
  },
  {
   "cell_type": "markdown",
   "metadata": {
    "colab_type": "text",
    "id": "4sRJ4jhMjtl4"
   },
   "source": [
    "### STOP AND WAIT"
   ]
  },
  {
   "cell_type": "code",
   "execution_count": null,
   "metadata": {
    "collapsed": true
   },
   "outputs": [],
   "source": [
    "def recv_child():\n",
    "    stats_={}\n",
    "    receiverSocket = socket(AF_INET, SOCK_DGRAM)\n",
    "    receiverSocket.setsockopt(SOL_SOCKET, SO_REUSEADDR, 1)\n",
    "    receiverSocket.bind(('', receiverPort))\n",
    "    print(\"--The receiver is ready to receive--\\n\")\n",
    "    \n",
    "    actual_seq_num=0\n",
    "    expected_seq_num=0\n",
    "    \n",
    "    while (True):\n",
    "        (message, senderAddress) = receiverSocket.recvfrom(2048)\n",
    "        message=pickle.loads(message)\n",
    "        t6=time.time()\n",
    "        if expected_seq_num== message.seq_num:\n",
    "            if decision(0.5):\n",
    "                receiverSocket.sendto(pickle.dumps(ACK(expected_seq_num,checksum=0,actual_seq_num), senderAddress)\n",
    "                t6 = time.time()\n",
    "                stats_['{0:.6f}'.format(t6 - t0)] = 'receiver sent ack for packet '+str(expected_seq_num)+' actual: '+ str(actual_seq_num)\n",
    "                actual_seq_num += 1\n",
    "                expected_seq_num = actual_seq_num % 2\n",
    "                                      \n",
    "                if message.type_ == 0:\n",
    "                time.sleep(0.1)\n",
    "                print ('\\n')\n",
    "                for (key, msg) in stats_.items():\n",
    "                    print (key, msg)\n",
    "            else:\n",
    "                stats_['{0:.6f}'.format(t6 - t0)] = 'receiver dropped ack for packet '+str(expected_seq_num)+' actual: '+str(actual_seq_num)\n",
    "                actual_seq_num += 1\n",
    "                expected_seq_num = actual_seq_num % 2\n",
    "        else:\n",
    "            #duplicate\n",
    "            receiverSocket.sendto(pickle.dumps(ACK(message.seq_num, 0, actual_seq_num-1)), senderAddress)\n",
    "             \n",
    "            stats_['{0:.6f}'.format(t6 - t0)] = '--duplicate-- already received ' + str(message.seq_num) + ' actual: ' + str(actual_seq_num-1)\n",
    "                                  \n",
    "\n",
    "            \n",
    "            "
   ]
  },
  {
   "cell_type": "code",
   "execution_count": 25,
   "metadata": {
    "colab": {
     "autoexec": {
      "startup": false,
      "wait_interval": 0
     },
     "base_uri": "https://localhost:8080/",
     "height": 629
    },
    "colab_type": "code",
    "executionInfo": {
     "elapsed": 8351,
     "status": "ok",
     "timestamp": 1524850902557,
     "user": {
      "displayName": "Zyad Shokry",
      "photoUrl": "//lh3.googleusercontent.com/-ZHjQe3B0AMU/AAAAAAAAAAI/AAAAAAAAAHY/iY3O8GlcjrA/s50-c-k-no/photo.jpg",
      "userId": "117974362878044525147"
     },
     "user_tz": -120
    },
    "id": "LCAPlR6ezZNX",
    "outputId": "c8f25b05-0a95-41ae-dcdf-9bf20c68e647"
   },
   "outputs": [
    {
     "name": "stdout",
     "output_type": "stream",
     "text": [
      "--The receiver is ready to receive--\n",
      "\n",
      "4.017278 sent packet 0 actual: 0\n",
      "4.018307 sender received ack for packet 0 actual: 0\n",
      "4.018487 sent packet 1 actual: 1\n",
      "4.048886 --timeout-- no ack received for packet 1 actual: 1\n",
      "4.048949 --again-- dropped packet 1 actual: 1\n",
      "4.079340 --timeout-- no ack received for packet 1 actual: 1\n",
      "4.079425 --again-- dropped packet 1 actual: 1\n",
      "4.109697 --timeout-- no ack received for packet 1 actual: 1\n",
      "4.109762 --again-- dropped packet 1 actual: 1\n",
      "4.140186 --timeout-- no ack received for packet 1 actual: 1\n",
      "4.140488 --again-- sent packet 1 actual: 1\n",
      "4.141100 sender received ack for packet 1 actual: 0\n",
      "4.141460 sent packet 0 actual: 2\n",
      "4.171860 --timeout-- no ack received for packet 0 actual: 2\n",
      "4.171924 --again-- dropped packet 0 actual: 2\n",
      "4.202350 --timeout-- no ack received for packet 0 actual: 2\n",
      "4.202415 --again-- dropped packet 0 actual: 2\n",
      "4.232827 --timeout-- no ack received for packet 0 actual: 2\n",
      "4.232891 --again-- dropped packet 0 actual: 2\n",
      "4.263284 --timeout-- no ack received for packet 0 actual: 2\n",
      "4.263624 --again-- sent packet 0 actual: 2\n",
      "4.294039 --timeout-- no ack received for packet 0 actual: 2\n",
      "4.294100 --again-- dropped packet 0 actual: 2\n",
      "4.324485 --timeout-- no ack received for packet 0 actual: 2\n",
      "4.324790 --again-- sent packet 0 actual: 2\n",
      "4.355190 --timeout-- no ack received for packet 0 actual: 2\n",
      "4.355486 --again-- sent packet 0 actual: 2\n",
      "4.385894 --timeout-- no ack received for packet 0 actual: 2\n",
      "4.386199 --again-- sent packet 0 actual: 2\n",
      "4.386856 sender received ack for packet 0 actual: 0\n",
      "4.387172 sent packet 1 actual: 3\n",
      "4.387683 sender received ack for packet 1 actual: 0\n",
      "4.387980 sent packet 0 actual: 4\n",
      "4.388606 sender received ack for packet 0 actual: 0\n",
      "\n",
      "\n",
      "4.017365 received packet 0 actual: 0\n",
      "4.018229 receiver sent ack for packet 0 actual: 0\n",
      "4.140627 --duplicate-- already received 1 actual: 0\n",
      "4.141581 received packet 0 actual: 0\n",
      "4.141708 receiver dropped ack for packet 0 actual: 0\n",
      "4.263769 received packet 0 actual: 0\n",
      "4.263916 receiver dropped ack for packet 0 actual: 0\n",
      "4.324928 received packet 0 actual: 0\n",
      "4.325089 receiver dropped ack for packet 0 actual: 0\n",
      "4.355642 received packet 0 actual: 0\n",
      "4.355784 receiver dropped ack for packet 0 actual: 0\n",
      "4.386367 received packet 0 actual: 0\n",
      "4.386709 receiver sent ack for packet 0 actual: 0\n",
      "4.387295 --duplicate-- already received 1 actual: 0\n",
      "4.388157 received packet 0 actual: 0\n",
      "4.388477 receiver sent ack for packet 0 actual: 0\n"
     ]
    }
   ],
   "source": [
    "import os\n",
    "import time\n",
    "t0 = time.time()\n",
    "time.sleep(1)\n",
    "rang = 5\n",
    "\n",
    "\n",
    "def recv_child():\n",
    "    stats_ = {}\n",
    "    receiverSocket = socket(AF_INET, SOCK_DGRAM)\n",
    "    receiverSocket.setsockopt(SOL_SOCKET, SO_REUSEADDR, 1)\n",
    "    receiverSocket.bind(('', receiverPort))\n",
    "    print(\"--The receiver is ready to receive--\\n\")\n",
    "    actual_seq_num = 0\n",
    "    expected_seq_num = 0\n",
    "    while 1:\n",
    "        \n",
    "        (message, senderAddress) = receiverSocket.recvfrom(2048)\n",
    "        t3 = time.time()\n",
    "        modifiedMessage = pickle.loads(message)\n",
    "        if not isinstance(modifiedMessage, Packet):\n",
    "            continue\n",
    "\n",
    "        seq_no = modifiedMessage.seq_num\n",
    "        if seq_no != expected_seq_num:\n",
    "            receiverSocket.sendto(pickle.dumps(ACK(seq_no, 0,\n",
    "                                  actual_seq_num)), senderAddress)\n",
    "        \n",
    "            \n",
    "            stats_['{0:.6f}'.format(t3 - t0)] = \\\n",
    "                '--duplicate-- already received ' + str(seq_no) \\\n",
    "                + ' actual: ' + str(actual_seq_num)\n",
    "            continue\n",
    "            \n",
    "        else:\n",
    "            stats_['{0:.6f}'.format(t3 - t0)] = 'received packet ' \\\n",
    "                + str(seq_no) + ' actual: ' + str(actual_seq_num)\n",
    "            if decision(0.5):\n",
    "                receiverSocket.sendto(pickle.dumps(ACK(expected_seq_num, 0,actual_seq_num)), senderAddress)\n",
    "                t6 = time.time()\n",
    "                #actual_seq_num += 1\n",
    "                #expected_seq_num = actual_seq_num % 2\n",
    "                stats_['{0:.6f}'.format(t6 - t0)] = 'receiver sent ack for packet '+str(expected_seq_num)+' actual: '+ str(actual_seq_num)\n",
    "            \n",
    "            else:\n",
    "                t6 = time.time()\n",
    "                stats_['{0:.6f}'.format(t6 - t0)] = 'receiver dropped ack for packet '+str(expected_seq_num)+' actual: '+str(actual_seq_num)\n",
    "                \n",
    "            actual_seq_num += 1\n",
    "            expected_seq_num = actual_seq_num % 2\n",
    "\n",
    "            if modifiedMessage.type_ == 0:\n",
    "                time.sleep(0.1)\n",
    "                print ('\\n')\n",
    "                for (key, msg) in stats_.items():\n",
    "                    print (key, msg)\n",
    "\n",
    "\n",
    "    # os._exit(0)\n",
    "    \n",
    "\n",
    "def send_parent():\n",
    "      newpid = os.fork()\n",
    "      if newpid == 0:\n",
    "         recv_child()\n",
    "      else:\n",
    "         stats_={}\n",
    "         time.sleep(3)\n",
    "         pids = (os.getpid(), newpid)\n",
    "         packets=[]\n",
    "         for i in range(0,rang):\n",
    "            \n",
    "            if (i != rang-1):\n",
    "                packets.append(Packet(i%2,0,b'kareem'))\n",
    "            else:\n",
    "                packets.append(Packet(i%2,0,b'kareem',type_=0))\n",
    "                \n",
    "                           \n",
    "         #print(\"send_parent: %d, recv_child: %d\\n\" % pids)\n",
    "         senderSocket = socket(AF_INET, SOCK_DGRAM)\n",
    "         senderSocket.setsockopt(SOL_SOCKET, SO_REUSEADDR, 1)\n",
    "         senderSocket.bind(('', senderPort))\n",
    "         message = packets\n",
    "\n",
    "         \n",
    "         for i in range(0,rang):\n",
    "           if decision(0.5):\n",
    "            senderSocket.sendto(pickle.dumps(message[i]),(receiverIP, receiverPort))\n",
    "            t1 = time.time()\n",
    "            stats_[\"{0:.6f}\".format(t1-t0)]=\"sent packet \"+str(i%2)+\" actual: \"+str(i)\n",
    "           else:\n",
    "            t1 = time.time()\n",
    "            stats_[\"{0:.6f}\".format(t1-t0)]=\"sent packet \"+str(i%2)+\" actual: \"+str(i)\n",
    "\n",
    "           while (True):\n",
    "               \n",
    "               modifiedMessage=pot_ack=None\n",
    "               try:\n",
    "                   senderSocket.settimeout(0.03)\n",
    "                   modifiedMessage, receiverAddress = senderSocket.recvfrom(2048)\n",
    "                   t5 = time.time()\n",
    "                   pot_ack=pickle.loads(modifiedMessage)\n",
    "                   if isinstance(pot_ack,ACK):\n",
    "                    if pot_ack.seq_num == i%2:\n",
    "                     stats_[\"{0:.6f}\".format(t5-t0)]= \"sender received ack for packet \"+str(pot_ack.seq_num)+\" actual: \"+str(pot_ack.real)\n",
    "                     modifiedMessage=None\n",
    "                    \n",
    "                     if(i==(rang-1)):\n",
    "                       for key, msg in stats_.items():\n",
    "                         print(key,msg)\n",
    "                      \n",
    "                     break\n",
    "               except:\n",
    "                   senderSocket.settimeout(None)\n",
    "                   t8 = time.time()\n",
    "                   stats_[\"{0:.6f}\".format(t8-t0)]=\"--timeout-- no ack received for packet \"+str(i%2)+\" actual: \"+str(i)\n",
    "                  \n",
    "                   if decision(0.5):\n",
    "                    senderSocket.sendto(pickle.dumps(message[i]),(receiverIP, receiverPort))\n",
    "                    t7 = time.time()\n",
    "                    stats_[\"{0:.6f}\".format(t7-t0)]=\"--again-- sent packet \"+str(i%2)+\" actual: \"+str(i)\n",
    "                   else:\n",
    "                    t7 = time.time()\n",
    "                    stats_[\"{0:.6f}\".format(t7-t0)]=\"--again-- dropped packet \"+str(i%2)+\" actual: \"+str(i)\n",
    "                    \n",
    "         senderSocket.close()\n",
    "\n",
    "send_parent()"
   ]
  },
  {
   "cell_type": "code",
   "execution_count": 0,
   "metadata": {
    "colab": {
     "autoexec": {
      "startup": false,
      "wait_interval": 0
     }
    },
    "colab_type": "code",
    "collapsed": true,
    "id": "ncK2ORJAL-PR"
   },
   "outputs": [],
   "source": [
    "!ps -fA | grep python"
   ]
  },
  {
   "cell_type": "code",
   "execution_count": 0,
   "metadata": {
    "colab": {
     "autoexec": {
      "startup": false,
      "wait_interval": 0
     }
    },
    "colab_type": "code",
    "collapsed": true,
    "id": "4L3Rf5lEU1Qk"
   },
   "outputs": [],
   "source": [
    "packets=[]\n",
    "f=open(\"test_file.txt\",\"rb\")\n",
    "data = f.read(2048)\n",
    "seqNO=0\n",
    "while (data):\n",
    "        packets.append(Packet(seqNO,0,data))\n",
    "        data=f.read(2048)\n",
    "        seqNO+=1\n",
    "print(len(packets))"
   ]
  },
  {
   "cell_type": "code",
   "execution_count": 0,
   "metadata": {
    "colab": {
     "autoexec": {
      "startup": false,
      "wait_interval": 0
     }
    },
    "colab_type": "code",
    "collapsed": true,
    "id": "l_3bpHyXeBvP"
   },
   "outputs": [],
   "source": [
    "'''collectedFile=b''\n",
    "for i in range( len(packets) ):\n",
    "  collectedFile+=packets[i].data\n",
    "'''"
   ]
  },
  {
   "cell_type": "code",
   "execution_count": 0,
   "metadata": {
    "colab": {
     "autoexec": {
      "startup": false,
      "wait_interval": 0
     }
    },
    "colab_type": "code",
    "collapsed": true,
    "id": "SXDuYMxBfpBx"
   },
   "outputs": [],
   "source": [
    "coFile=open(\"co_test_file.txt\",\"wb\")\n",
    "for i in range(len(packets)):\n",
    "  coFile.write(packets[i].data)\n",
    "coFile.close()\n",
    "file=open(\"co_test_file.txt\",\"rb\")\n",
    "new=file.read(2048)\n",
    "print(new)\n"
   ]
  },
  {
   "cell_type": "code",
   "execution_count": 0,
   "metadata": {
    "colab": {
     "autoexec": {
      "startup": false,
      "wait_interval": 0
     }
    },
    "colab_type": "code",
    "collapsed": true,
    "id": "zXwJscgXhfF4"
   },
   "outputs": [],
   "source": [
    "from google.colab import files\n",
    "!ls\n",
    "files.download('co_test_file.txt')\n"
   ]
  },
  {
   "cell_type": "code",
   "execution_count": 0,
   "metadata": {
    "colab": {
     "autoexec": {
      "startup": false,
      "wait_interval": 0
     }
    },
    "colab_type": "code",
    "collapsed": true,
    "id": "ySKA-d1drU9c"
   },
   "outputs": [],
   "source": [
    "'''import socket\n",
    "from socket import *\n",
    "serverIP = '172.17.0.2'\n",
    "serverPort = 12000\n",
    "clientSocket = socket(AF_INET, SOCK_DGRAM)\n",
    "message = input('Input lowercase sentence:')\n",
    "clientSocket.sendto(message.encode(),(serverIP, serverPort))\n",
    "modifiedMessage, serverAddress = clientSocket.recvfrom(2048)\n",
    "print(modifiedMessage)\n",
    "clientSocket.close()\n",
    "'''\n"
   ]
  },
  {
   "cell_type": "code",
   "execution_count": 0,
   "metadata": {
    "colab": {
     "autoexec": {
      "startup": false,
      "wait_interval": 0
     }
    },
    "colab_type": "code",
    "collapsed": true,
    "id": "fPSshavUED9Y"
   },
   "outputs": [],
   "source": [
    "'''import socket\n",
    "from socket import *\n",
    "serverPort = 12000\n",
    "serverSocket = socket(AF_INET, SOCK_DGRAM)\n",
    "serverSocket.bind(('', serverPort))\n",
    "print(\"The server is ready to receive\")\n",
    "while 1:\n",
    "  message, clientAddress = serverSocket.recvfrom(2048)\n",
    "  modifiedMessage = message.upper()\n",
    "  serverSocket.sendto(modifiedMessage, clientAddress)\n",
    "'''"
   ]
  }
 ],
 "metadata": {
  "colab": {
   "default_view": {},
   "name": "EgyptainFractions_65x^$2#.ipynb",
   "provenance": [],
   "version": "0.3.2",
   "views": {}
  },
  "kernelspec": {
   "display_name": "Python 3",
   "language": "python",
   "name": "python3"
  },
  "language_info": {
   "codemirror_mode": {
    "name": "ipython",
    "version": 3
   },
   "file_extension": ".py",
   "mimetype": "text/x-python",
   "name": "python",
   "nbconvert_exporter": "python",
   "pygments_lexer": "ipython3",
   "version": "3.6.2"
  }
 },
 "nbformat": 4,
 "nbformat_minor": 1
}
